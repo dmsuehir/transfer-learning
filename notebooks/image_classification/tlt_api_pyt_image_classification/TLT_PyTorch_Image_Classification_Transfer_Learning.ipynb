{
 "cells": [
  {
   "cell_type": "markdown",
   "id": "3405d28d",
   "metadata": {},
   "source": [
    "# Transfer Learning for Image Classification using PyTorch and the Intel® Transfer Learning Tool API\n",
    "\n",
    "This notebook uses the `tlt` library to do transfer learning for image classfication with a PyTorch pretrained model."
   ]
  },
  {
   "cell_type": "markdown",
   "id": "6ff47af5-29be-45b4-9c0f-1ed6bbc96ffa",
   "metadata": {},
   "source": [
    "###  Intel® Gaudi® AI accelerator\n",
    "To use HPU training and inference with Gaudi, follow these steps to install required HPU drivers and software from the official [Habana Docs](https://docs.habana.ai/en/latest/Installation_Guide/SW_Verification.html)\n",
    "\n",
    "Note: Installing the required HPU software will require the user to not have `torch` installed in their environment first. This can be achieved by running `pip uninstall torch` before following through with the Gaudi installation steps"
   ]
  },
  {
   "cell_type": "markdown",
   "id": "1d61b7ac",
   "metadata": {},
   "source": [
    "## 1. Import dependencies and setup parameters\n",
    "\n",
    "This notebook assumes that you have already followed the instructions to setup a PyTorch environment with all the dependencies required to run the notebook."
   ]
  },
  {
   "cell_type": "code",
   "execution_count": null,
   "id": "a0bf9fd0",
   "metadata": {},
   "outputs": [],
   "source": [
    "import matplotlib.pyplot as plt\n",
    "import numpy as np\n",
    "import os\n",
    "import pandas as pd\n",
    "import PIL.Image as Image\n",
    "import torch, torchvision\n",
    "import requests\n",
    "from io import BytesIO\n",
    "\n",
    "# tlt imports\n",
    "from tlt.datasets import dataset_factory\n",
    "from tlt.models import model_factory\n",
    "from tlt.utils.file_utils import download_and_extract_tar_file, download_file\n",
    "\n",
    "# Specify a directory for the dataset to be downloaded\n",
    "dataset_dir = os.environ[\"DATASET_DIR\"] if \"DATASET_DIR\" in os.environ else \\\n",
    "    os.path.join(os.environ[\"HOME\"], \"dataset\")\n",
    "     \n",
    "# Specify a directory for output\n",
    "output_dir = os.environ[\"OUTPUT_DIR\"] if \"OUTPUT_DIR\" in os.environ else \\\n",
    "    os.path.join(os.environ[\"HOME\"], \"output\")\n",
    "\n",
    "print(\"Dataset directory:\", dataset_dir)\n",
    "print(\"Output directory:\", output_dir)"
   ]
  },
  {
   "cell_type": "markdown",
   "id": "8f1fc78c",
   "metadata": {},
   "source": [
    "## 2. Get the model\n",
    "\n",
    "In this step, we call the model factory to list supported PyTorch image classification models. This is a list of pretrained models from [Torchvision](https://pytorch.org/vision/stable/models.html) and [PyTorch Hub](https://pytorch.org/hub/) that we tested with our API. Optionally, the `verbose=True` argument can be added to the `print_supported_models` function call to get more information about each model (such as the classification layer, image size, the original dataset, etc)."
   ]
  },
  {
   "cell_type": "code",
   "execution_count": null,
   "id": "ad4aeafd",
   "metadata": {},
   "outputs": [],
   "source": [
    "# See a list of available models\n",
    "model_factory.print_supported_models(use_case='image_classification', framework='pytorch')"
   ]
  },
  {
   "cell_type": "markdown",
   "id": "aa1d9d53",
   "metadata": {},
   "source": [
    "Next, use the model factory to get one of the models listed in the previous cell. The `get_model` function returns a model object that will later be used for training."
   ]
  },
  {
   "cell_type": "code",
   "execution_count": null,
   "id": "ee4e43c0",
   "metadata": {},
   "outputs": [],
   "source": [
    "# Set device=\"hpu\" to use Gaudi. If no HPU hardware or installs are detected, device will default to \"cpu\"\n",
    "model = model_factory.get_model(model_name='efficientnet_b1', framework='pytorch', device='cpu')\n",
    "\n",
    "print(\"Model name:\", model.model_name)\n",
    "print(\"Framework:\", model.framework)\n",
    "print(\"Use case:\", model.use_case)\n",
    "print(\"Image size:\", model.image_size)"
   ]
  },
  {
   "cell_type": "markdown",
   "id": "dabd4183",
   "metadata": {},
   "source": [
    "## 3. Get the dataset"
   ]
  },
  {
   "cell_type": "markdown",
   "id": "2d314ba0",
   "metadata": {},
   "source": [
    "### Option A: Use your own dataset\n",
    "\n",
    "To use your own image dataset for transfer learning with the rest of this notebook, format your images as `.jpg` files and save them in folders named after the classes that you want the model to predict. To provide a working example using the correct layout, we will download a flower species dataset. After downloading and extracting, you will have the following  subdirectories in your dataset directory. Each species subfolder will contain numerous `.jpg` files:\n",
    "\n",
    "```\n",
    "flower_photos\n",
    "  └── daisy\n",
    "  └── dandelion\n",
    "  └── roses\n",
    "  └── sunflowers\n",
    "  └── tulips\n",
    "```\n",
    "\n",
    "When using your own dataset, ensure that it is similarly organized with folders for each class. Change the `custom_dataset_path` variable to point to your dataset folder."
   ]
  },
  {
   "cell_type": "code",
   "execution_count": null,
   "id": "6ab17b6b",
   "metadata": {
    "tags": [
     "remove_for_tv_dataset"
    ]
   },
   "outputs": [],
   "source": [
    "# For demonstration purposes, we download a flowers dataset. To instead use your own dataset, set the\n",
    "# custom_dataset_path to point to your dataset's directory and comment out the download_and_extract_tar_file line.\n",
    "custom_dataset_path = os.path.join(dataset_dir, \"flower_photos\")\n",
    "\n",
    "if not os.path.exists(custom_dataset_path):\n",
    "    download_url = \"https://storage.googleapis.com/download.tensorflow.org/example_images/flower_photos.tgz\"\n",
    "    download_and_extract_tar_file(download_url, dataset_dir)"
   ]
  },
  {
   "cell_type": "markdown",
   "id": "8cccbc99",
   "metadata": {},
   "source": [
    "Call the dataset factory to load the dataset from the directory."
   ]
  },
  {
   "cell_type": "code",
   "execution_count": null,
   "id": "f6706c01",
   "metadata": {
    "tags": [
     "remove_for_tv_dataset"
    ]
   },
   "outputs": [],
   "source": [
    "# Load the dataset from the custom dataset path\n",
    "dataset = dataset_factory.load_dataset(dataset_dir=custom_dataset_path,\n",
    "                                       use_case='image_classification', \n",
    "                                       framework='pytorch')\n",
    "\n",
    "print(\"Class names:\", str(dataset.class_names))"
   ]
  },
  {
   "cell_type": "markdown",
   "id": "88897dc6",
   "metadata": {},
   "source": [
    "Skip to the next step [4. Prepare the dataset](#4.-Prepare-the-dataset) to continue using the custom dataset."
   ]
  },
  {
   "cell_type": "markdown",
   "id": "c7e3cd9b",
   "metadata": {},
   "source": [
    "### Option B: Use a dataset from the PyTorch's Torchvision Datasets catalog\n",
    "\n",
    "To use a Torchvision dataset, specify the name of the dataset in the `get_dataset` function. This example uses the `CIFAR10` dataset from the [Torchvision datasets for image classification](https://pytorch.org/vision/stable/datasets.html#image-classification), but you can choose from a variety of options. If the dataset is not found in the dataset directory it will be downloaded. Subsequent runs will reuse the already downloaded dataset.\n",
    "\n",
    "These Torchvision datasets are currently supported in the API:\n",
    "* CIFAR10\n",
    "* Country211\n",
    "* DTD\n",
    "* Food101\n",
    "* FGVCAircraft\n",
    "* RenderedSST2"
   ]
  },
  {
   "cell_type": "code",
   "execution_count": null,
   "id": "ba8bb0cb",
   "metadata": {
    "tags": [
     "remove_for_custom_dataset"
    ]
   },
   "outputs": [],
   "source": [
    "dataset = dataset_factory.get_dataset(dataset_dir=dataset_dir,\n",
    "                                      use_case='image_classification', \n",
    "                                      framework='pytorch',\n",
    "                                      dataset_name='CIFAR10',\n",
    "                                      dataset_catalog='torchvision')\n",
    "\n",
    "print(dataset.info)\n",
    "\n",
    "print(\"Class names:\", str(dataset.class_names))"
   ]
  },
  {
   "cell_type": "markdown",
   "id": "99f23249",
   "metadata": {},
   "source": [
    "## 4. Prepare the dataset\n",
    "Once you have your dataset from Option A or Option B above, use the following cells to split and preprocess the data. We split them into training and validation subsets, then resize the images to match the selected models, and then batch the images.\n",
    "Data augmentation can be appplied by specifying the augmentations to be applied in add_aug parameter. Supported augmentations are given below\n",
    "1. hflip - RandomHorizontalFlip\n",
    "2. rotate - RandomRotate"
   ]
  },
  {
   "cell_type": "code",
   "execution_count": null,
   "id": "dd91fbcf",
   "metadata": {},
   "outputs": [],
   "source": [
    "# Split the dataset into training and validation subsets\n",
    "dataset.shuffle_split(train_pct=.75, val_pct=.25)"
   ]
  },
  {
   "cell_type": "code",
   "execution_count": null,
   "id": "e7c95a70",
   "metadata": {},
   "outputs": [],
   "source": [
    "# Preprocess the dataset with an image size that matches the model and a batch size of 32\n",
    "batch_size = 32\n",
    "dataset.preprocess(model.image_size, batch_size=batch_size, add_aug=['hflip','rotate'])"
   ]
  },
  {
   "cell_type": "markdown",
   "id": "3704772b",
   "metadata": {},
   "source": [
    "## 5. Predict using the original model\n",
    "\n",
    "We get a single batch from our dataset, and use that to call predict on our model. Since we haven't done any training on the model yet, it will give us predictions using the original ImageNet trained model."
   ]
  },
  {
   "cell_type": "code",
   "execution_count": null,
   "id": "cd6782b0",
   "metadata": {},
   "outputs": [],
   "source": [
    "# Get a single batch from the dataset\n",
    "images, labels = dataset.get_batch()\n",
    "labels = [dataset.class_names[id] for id in labels]\n",
    "\n",
    "# Download the ImageNet labels and load them into a list\n",
    "labels_file = \"https://storage.googleapis.com/download.tensorflow.org/data/ImageNetLabels.txt\"\n",
    "labels_file_path = os.path.join(dataset_dir, os.path.basename(labels_file))\n",
    "\n",
    "if not os.path.exists(labels_file_path):\n",
    "    download_file(labels_file, dataset_dir)\n",
    "\n",
    "with open(labels_file_path) as f:\n",
    "    imagenet_labels = f.readlines()\n",
    "    imagenet_classes = [l.strip() for l in imagenet_labels]\n",
    "    \n",
    "# Predict using the original model\n",
    "predictions = model.predict(images.to(model._device))\n",
    "predictions = [imagenet_classes[id] for id in predictions]"
   ]
  },
  {
   "cell_type": "code",
   "execution_count": null,
   "id": "d37b808f",
   "metadata": {},
   "outputs": [],
   "source": [
    "# Display the images with the predicted ImageNet label\n",
    "plt.figure(figsize=(18,14))\n",
    "plt.subplots_adjust(hspace=0.5)\n",
    "for n in range(min(batch_size, 30)):\n",
    "    plt.subplot(6,5,n+1)\n",
    "    inp = images[n]\n",
    "    inp = inp.numpy().transpose((1, 2, 0))\n",
    "    mean = np.array([0.485, 0.456, 0.406])\n",
    "    std = np.array([0.229, 0.224, 0.225])\n",
    "    inp = std * inp + mean\n",
    "    inp = np.clip(inp, 0, 1)\n",
    "    plt.imshow(inp)\n",
    "    correct_prediction = labels[n] == predictions[n]\n",
    "    color = \"darkgreen\" if correct_prediction else \"crimson\"\n",
    "    title = predictions[n].title() if correct_prediction else \"{}\\n({})\".format(predictions[n], labels[n]) \n",
    "    plt.title(title, fontsize=14, color=color)\n",
    "    plt.axis('off')\n",
    "_ = plt.suptitle(\"ImageNet predictions\", fontsize=20)\n",
    "plt.show()\n",
    "\n",
    "print(\"Correct predictions are shown in green\")\n",
    "print(\"Incorrect predictions are shown in red with the actual label in parenthesis\")"
   ]
  },
  {
   "cell_type": "markdown",
   "id": "a49ec7b7",
   "metadata": {},
   "source": [
    "## 6. Transfer Learning\n",
    "\n",
    "This step calls the model's train function with the dataset that was just prepared. The training function will get the base model and add on a dense layer based on the number of classes in the dataset. The model is then compiled and trained based on the number of epochs specified in the argument. With the do_eval parameter set to True by default, this step will also show how the model can be evaluated. The model's evaluate function returns a list of metrics calculated from the dataset's validation subset."
   ]
  },
  {
   "cell_type": "markdown",
   "id": "ab510f51",
   "metadata": {},
   "source": [
    "### Arguments\n",
    "\n",
    "#### Required\n",
    "-  **dataset** (ImageClassificationDataset, required): Dataset to use when training the model\n",
    "-  **output_dir** (str): Path to a writeable directory for checkpoint files\n",
    "-  **epochs** (int): Number of epochs to train the model (default: 1)\n",
    "\n",
    "#### Optional\n",
    "-  **initial_checkpoints** (str): Path to checkpoint weights to load. If the path provided is a directory, the latest checkpoint will be used.\n",
    "-  **early_stopping** (bool): Enable early stopping if convergence is reached while training at the end of each epoch. (default: False)\n",
    "-  **lr_decay** (bool): If lr_decay is True and do_eval is True, learning rate decay on the validation loss is applied at the end of each epoch.\n",
    "-  **extra_layers** (list[int]): Optionally insert additional dense layers between the base model and output layer. This can help increase accuracy when fine-tuning a TFHub model. The input should be a list of integers representing the number and size of the layers, for example [1024, 512] will insert two dense layers, the first with 1024 neurons and the second with 512 neurons.\n",
    "-  **device** (str): Enter `\"cpu\"` or `\"hpu\"` to specify which hardware device to run training on. If `device=\"hpu\"` is specified,\n",
    " but no HPU hardware or installs are detected, CPU will be used. (default: \"cpu\")\n",
    "\n",
    "  \n",
    "\n",
    "Note: refer to release documentation for an up-to-date list of train arguments and their current descriptions"
   ]
  },
  {
   "cell_type": "code",
   "execution_count": null,
   "id": "a2b601fc",
   "metadata": {},
   "outputs": [],
   "source": [
    "history = model.train(dataset, output_dir=output_dir, epochs=1, ipex_optimize=False)"
   ]
  },
  {
   "cell_type": "markdown",
   "id": "8582cfaf",
   "metadata": {},
   "source": [
    "A complete model summary can be printed for all modules in case any need to be unfrozen:"
   ]
  },
  {
   "cell_type": "code",
   "execution_count": null,
   "id": "0a5e279b",
   "metadata": {},
   "outputs": [],
   "source": [
    "model.list_layers(verbose=True) "
   ]
  },
  {
   "cell_type": "markdown",
   "id": "9530b21d",
   "metadata": {},
   "source": [
    "Layers can be unfrozen by passing their string names, such as the following:"
   ]
  },
  {
   "cell_type": "code",
   "execution_count": null,
   "id": "258662a6",
   "metadata": {},
   "outputs": [],
   "source": [
    "model.unfreeze_layer(\"features\") # Unfreezes the features layers\n",
    "model.list_layers(verbose=True) "
   ]
  },
  {
   "cell_type": "markdown",
   "id": "707f17dd",
   "metadata": {},
   "source": [
    "## 7. Predict\n",
    "\n",
    "Lastly, we predict using the same single batch that we used earlier with the ImageNet trained model to visualize the model's predictions after training."
   ]
  },
  {
   "cell_type": "code",
   "execution_count": null,
   "id": "a2bc447f",
   "metadata": {},
   "outputs": [],
   "source": [
    "# Predict with a single batch\n",
    "predictions = model.predict(images.to(model._device))\n",
    "\n",
    "# Map the predicted ids to the class names\n",
    "predictions = [dataset.class_names[id] for id in predictions]\n",
    "\n",
    "# Display the results\n",
    "plt.figure(figsize=(16,16))\n",
    "plt.subplots_adjust(hspace=0.5)\n",
    "for n in range(min(batch_size, 30)):\n",
    "    plt.subplot(6,5,n+1)\n",
    "    inp = images[n]\n",
    "    inp = inp.numpy().transpose((1, 2, 0))\n",
    "    mean = np.array([0.485, 0.456, 0.406])\n",
    "    std = np.array([0.229, 0.224, 0.225])\n",
    "    inp = std * inp + mean\n",
    "    inp = np.clip(inp, 0, 1)\n",
    "    plt.imshow(inp)\n",
    "    correct_prediction = labels[n] == predictions[n]\n",
    "    color = \"darkgreen\" if correct_prediction else \"crimson\"\n",
    "    title = predictions[n].title() if correct_prediction else \"{}\\n({})\".format(predictions[n], labels[n]) \n",
    "    plt.title(title, fontsize=14, color=color)\n",
    "    plt.axis('off')\n",
    "_ = plt.suptitle(\"Model predictions\", fontsize=16)\n",
    "plt.show()\n",
    "print(\"Correct predictions are shown in green\")\n",
    "print(\"Incorrect predictions are shown in red with the actual label in parenthesis\")"
   ]
  },
  {
   "cell_type": "markdown",
   "id": "d5b03792",
   "metadata": {},
   "source": [
    "### Custom Single Image Prediction"
   ]
  },
  {
   "cell_type": "markdown",
   "id": "6dc48f94",
   "metadata": {},
   "source": [
    "We can also predict using a single image that wasn't part of our original dataset. We download a flower image from the [Open Images Dataset](https://storage.googleapis.com/openimages/web/index.html) and then resize it to match our model."
   ]
  },
  {
   "cell_type": "code",
   "execution_count": null,
   "id": "5afd283f",
   "metadata": {},
   "outputs": [],
   "source": [
    "# Download an image from the web and resize it to match our model\n",
    "image_url = 'https://c8.staticflickr.com/8/7095/7210797228_c7fe51c3cb_z.jpg'\n",
    "\n",
    "image_shape = (model.image_size, model.image_size)\n",
    "daisy = Image.open(BytesIO(requests.get(image_url).content)).resize(image_shape)\n",
    "daisy"
   ]
  },
  {
   "cell_type": "markdown",
   "id": "7b7a0227",
   "metadata": {},
   "source": [
    "Then, we call predict by passing the np array for our image and add a dimension to our array to represent the batch."
   ]
  },
  {
   "cell_type": "code",
   "execution_count": null,
   "id": "22146e35",
   "metadata": {},
   "outputs": [],
   "source": [
    "# Get the image as a np array and scale and normalize it    \n",
    "daisy = np.array(daisy)/255.0\n",
    "daisy = (daisy - np.array([0.485, 0.456, 0.406])) / np.array([0.229, 0.224, 0.225])\n",
    "\n",
    "# Arrange the channels with a batch dimension first (np.newaxis) and RGB channels second (np.moveaxis)\n",
    "daisy = torch.Tensor(np.moveaxis(daisy, -1, 0))[np.newaxis, ...]\n",
    "\n",
    "# Predict and print the class name\n",
    "result = model.predict(daisy)\n",
    "print(dataset.class_names[result[0]])"
   ]
  },
  {
   "cell_type": "markdown",
   "id": "26130983",
   "metadata": {},
   "source": [
    "## 8. Export\n",
    "\n",
    "Lastly, we can call the model `export` function to generate a `saved_model.pb`. Each time the model is exported, a new numbered directory is created, which allows serving to pick up the latest model. "
   ]
  },
  {
   "cell_type": "code",
   "execution_count": null,
   "id": "391afe2b",
   "metadata": {},
   "outputs": [],
   "source": [
    "saved_model_dir = model.export(output_dir)"
   ]
  },
  {
   "cell_type": "markdown",
   "id": "40f5dc3e",
   "metadata": {},
   "source": [
    "## 9. Post-training quantization\n",
    "\n",
    "In this section, the  `tlt` API uses [Intel® Neural Compressor (INC)](https://github.com/intel/neural-compressor) to benchmark and quantize the model to get optimal inference performance.\n",
    "\n",
    "We use the Intel Neural Compressor to benchmark the full precision model to see how it performs, as our baseline.\n",
    "\n",
    "Please note that Benchmark and Quantization is only compatible with CPU models at this time, due to the IPEX backend\n",
    "\n",
    "> Note that there is a known issue when running Intel Neural Compressor from a notebook that you may sometimes see the error \n",
    "> `zmq.error.ZMQError: Address already in use`. If you see this error, rerun the cell again."
   ]
  },
  {
   "cell_type": "code",
   "execution_count": null,
   "id": "a8318885",
   "metadata": {},
   "outputs": [],
   "source": [
    "results = model.benchmark(dataset=dataset)"
   ]
  },
  {
   "cell_type": "markdown",
   "id": "7997cc13",
   "metadata": {},
   "source": [
    "Next we use Intel Neural Compressor to automatically search for the optimal quantization recipe for low-precision model inference within the accuracy loss constrains defined in the config. Running post training quantization may take several minutes, depending on your hardware and the exit policy (timeout and max trials).\n",
    "\n",
    "You can customize a config by passing these parameters to `get_inc_config()`:\n",
    " * **approach** (str): The quantization approach (we recommend 'static' for image models and 'dynamic' for text models) \n",
    " * **accuracy_criterion_relative** (float): Relative accuracy loss (default: 0.01, which is 1%)\n",
    " * **exit_policy_timeout** (int): Tuning timeout in seconds (default: 0). Tuning processing finishes when the\n",
    "   timeout or max_trials is reached. A tuning timeout of 0 means that the tuning phase stops when the accuracy\n",
    "   criterion is met.\n",
    "* **exit_policy_max_trials** (int): Maximum number of tuning trials (default: 50). Tuning processing finishes when\n",
    "  the timeout or or max_trials is reached."
   ]
  },
  {
   "cell_type": "code",
   "execution_count": null,
   "id": "ce143e0f",
   "metadata": {},
   "outputs": [],
   "source": [
    "from tlt.utils.inc_utils import get_inc_config\n",
    "\n",
    "config = get_inc_config(approach='static',\n",
    "                        accuracy_criterion_relative=0.01,\n",
    "                        exit_policy_timeout=0,\n",
    "                        exit_policy_max_trials=10)"
   ]
  },
  {
   "cell_type": "code",
   "execution_count": null,
   "id": "8ee3e1d7",
   "metadata": {},
   "outputs": [],
   "source": [
    "inc_output_dir = os.path.join(output_dir, 'quantized_models', model.model_name,\n",
    "                                       os.path.basename(saved_model_dir))\n",
    "model.quantize(inc_output_dir, dataset=dataset, config=config)"
   ]
  },
  {
   "cell_type": "markdown",
   "id": "abb5d272",
   "metadata": {},
   "source": [
    "Let's benchmark using the quantized model, so that we can compare the performance to the full precision model that was originally benchmarked."
   ]
  },
  {
   "cell_type": "code",
   "execution_count": null,
   "id": "7a900100",
   "metadata": {},
   "outputs": [],
   "source": [
    "quantized_results = model.benchmark(dataset=dataset, saved_model_dir=inc_output_dir)"
   ]
  },
  {
   "cell_type": "markdown",
   "id": "0947915a",
   "metadata": {},
   "source": [
    "## Dataset Citations\n",
    "\n",
    "```\n",
    "@ONLINE {tfflowers,\n",
    "author = \"The TensorFlow Team\",\n",
    "title = \"Flowers\",\n",
    "month = \"jan\",\n",
    "year = \"2019\",\n",
    "url = \"http://download.tensorflow.org/example_images/flower_photos.tgz\" }\n",
    "\n",
    "@ONLINE {CIFAR10,\n",
    "author = \"Alex Krizhevsky\",\n",
    "title = \"CIFAR-10\",\n",
    "year = \"2009\",\n",
    "url = \"http://www.cs.toronto.edu/~kriz/cifar.html\" }\n",
    "\n",
    "@article{openimages,\n",
    "  title={OpenImages: A public dataset for large-scale multi-label and multi-class image classification.},\n",
    "  author={Krasin, Ivan and Duerig, Tom and Alldrin, Neil and Veit, Andreas and Abu-El-Haija, Sami\n",
    "    and Belongie, Serge and Cai, David and Feng, Zheyun and Ferrari, Vittorio and Gomes, Victor\n",
    "    and Gupta, Abhinav and Narayanan, Dhyanesh and Sun, Chen and Chechik, Gal and Murphy, Kevin},\n",
    "  journal={Dataset available from https://github.com/openimages},\n",
    "  year={2016}\n",
    "}\n",
    "```"
   ]
  }
 ],
 "metadata": {
  "kernelspec": {
   "display_name": "Python 3 (ipykernel)",
   "language": "python",
   "name": "python3"
  },
  "language_info": {
   "codemirror_mode": {
    "name": "ipython",
    "version": 3
   },
   "file_extension": ".py",
   "mimetype": "text/x-python",
   "name": "python",
   "nbconvert_exporter": "python",
   "pygments_lexer": "ipython3",
   "version": "3.9.17"
  }
 },
 "nbformat": 4,
 "nbformat_minor": 5
}
