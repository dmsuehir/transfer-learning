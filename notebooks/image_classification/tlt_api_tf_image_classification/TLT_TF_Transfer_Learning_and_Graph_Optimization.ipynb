{
 "cells": [
  {
   "attachments": {},
   "cell_type": "markdown",
   "id": "ffc0d761",
   "metadata": {},
   "source": [
    "# Transfer Learning and Graph Optimization using TensorFlow and the Intel® Transfer Learning Tool API\n",
    "\n",
    "This notebook uses the `tlt` library to do transfer learning and graph optimization for image classfication with a TensorFlow pretrained model."
   ]
  },
  {
   "attachments": {},
   "cell_type": "markdown",
   "id": "b266ca11",
   "metadata": {},
   "source": [
    "## 1. Import dependencies and setup parameters\n",
    "\n",
    "This notebook assumes that you have already followed the instructions in the [notebooks README.md](/notebooks/README.md) to setup a TensorFlow environment with all the dependencies required to run the notebook."
   ]
  },
  {
   "cell_type": "code",
   "execution_count": 1,
   "id": "1b31cc75",
   "metadata": {},
   "outputs": [],
   "source": [
    "import matplotlib.pyplot as plt\n",
    "import numpy as np\n",
    "import os\n",
    "import pandas as pd\n",
    "import PIL.Image as Image\n",
    "import tensorflow as tf\n",
    "\n",
    "# tlt imports\n",
    "from tlt.datasets import dataset_factory\n",
    "from tlt.models import model_factory\n",
    "from tlt.utils.file_utils import download_and_extract_tar_file\n",
    "\n",
    "# Specify a directory for the dataset to be downloaded\n",
    "dataset_dir = os.environ[\"DATASET_DIR\"] if \"DATASET_DIR\" in os.environ else \\\n",
    "    os.path.join(os.environ[\"HOME\"], \"dataset\")\n",
    "     \n",
    "# Specify a directory for output\n",
    "output_dir = os.environ[\"OUTPUT_DIR\"] if \"OUTPUT_DIR\" in os.environ else \\\n",
    "    os.path.join(os.environ[\"HOME\"], \"output\")\n",
    "\n",
    "print(\"Dataset directory:\", dataset_dir)\n",
    "print(\"Output directory:\", output_dir)"
   ]
  },
  {
   "attachments": {},
   "cell_type": "markdown",
   "id": "e49dafe3",
   "metadata": {},
   "source": [
    "## 2. Get the model\n",
    "\n",
    "In this step, we call the Intel Transfer Learning Tool model factory to list supported TensorFlow image classification models. This is a list of pretrained models from [TFHub](https://tfhub.dev) and [Keras Applications](https://keras.io/api/applications/) that we tested with our API. Optionally, the `verbose=True` argument can be added to the `print_supported_models` function call to get more information about each model (such as the image size, the original dataset, the preprocessor, etc)."
   ]
  },
  {
   "cell_type": "code",
   "execution_count": null,
   "id": "ad49dc51",
   "metadata": {},
   "outputs": [],
   "source": [
    "# See a list of available models\n",
    "model_factory.print_supported_models(use_case='image_classification', framework='tensorflow')"
   ]
  },
  {
   "attachments": {},
   "cell_type": "markdown",
   "id": "764c7063",
   "metadata": {},
   "source": [
    "Next, use the model factory to get one of the models listed in the previous cell. The `get_model` function returns a model object that will later be used for training."
   ]
  },
  {
   "cell_type": "code",
   "execution_count": null,
   "id": "f101e379",
   "metadata": {},
   "outputs": [],
   "source": [
    "model = model_factory.get_model(model_name='resnet_v1_50', framework='tensorflow')\n",
    "\n",
    "print(\"Model name:\", model.model_name)\n",
    "print(\"Framework:\", model.framework)\n",
    "print(\"Use case:\", model.use_case)\n",
    "print(\"Image size:\", model.image_size)"
   ]
  },
  {
   "attachments": {},
   "cell_type": "markdown",
   "id": "3351fbbc",
   "metadata": {},
   "source": [
    "## 3. Get the dataset\n",
    "\n",
    "We call the dataset factory to load sample image classification dataset. For demonstration purposes, we will download a flower species dataset. After downloading and extracting, you will have the following  subdirectories in your dataset directory. Each species subfolder will contain numerous `.jpg` files:\n",
    "\n",
    "```\n",
    "flower_photos\n",
    "  └── daisy\n",
    "  └── dandelion\n",
    "  └── roses\n",
    "  └── sunflowers\n",
    "  └── tulips\n",
    "```\n",
    "\n",
    "When using your own dataset, ensure that it is similarly organized with folders for each class. Change the `custom_dataset_path` variable to point to your dataset folder."
   ]
  },
  {
   "cell_type": "code",
   "execution_count": null,
   "id": "8741e47e",
   "metadata": {},
   "outputs": [],
   "source": [
    "# For demonstration purposes, we download a flowers dataset. To instead use your own dataset, set the\n",
    "# custom_dataset_path to point to your dataset's directory and comment out the download_and_extract_tar_file line.\n",
    "custom_dataset_path = os.path.join(dataset_dir, \"flower_photos\")\n",
    "\n",
    "if not os.path.exists(custom_dataset_path):\n",
    "    download_url = \"https://storage.googleapis.com/download.tensorflow.org/example_images/flower_photos.tgz\"\n",
    "    download_and_extract_tar_file(download_url, dataset_dir)"
   ]
  },
  {
   "attachments": {},
   "cell_type": "markdown",
   "id": "0ddf65ed",
   "metadata": {},
   "source": [
    "Call the dataset factory to load the dataset from the directory."
   ]
  },
  {
   "cell_type": "code",
   "execution_count": null,
   "id": "94ebc8e1",
   "metadata": {},
   "outputs": [],
   "source": [
    "# Load the dataset from the custom dataset path\n",
    "dataset = dataset_factory.load_dataset(dataset_dir=custom_dataset_path,\n",
    "                                       use_case='image_classification', \n",
    "                                       framework='tensorflow')\n",
    "\n",
    "print(\"Class names:\", str(dataset.class_names))"
   ]
  },
  {
   "attachments": {},
   "cell_type": "markdown",
   "id": "372a5bd2",
   "metadata": {},
   "source": [
    "## 4. Prepare the dataset\n",
    "\n",
    "Once you have your dataset, use the following cells to split and preprocess the data. We split them into training and validation subsets, then resize the images to match the selected models, and then batch the images."
   ]
  },
  {
   "cell_type": "code",
   "execution_count": null,
   "id": "4b4dc950",
   "metadata": {},
   "outputs": [],
   "source": [
    "# Split the dataset into training and validation subsets\n",
    "dataset.shuffle_split(train_pct=.75, val_pct=.25)"
   ]
  },
  {
   "cell_type": "code",
   "execution_count": null,
   "id": "33c883c2",
   "metadata": {},
   "outputs": [],
   "source": [
    "# Preprocess the dataset with an image size and preprocessor that match the model and a batch size of 32\n",
    "batch_size = 32\n",
    "dataset.preprocess(model.image_size, batch_size=batch_size, preprocessor=model.preprocessor)"
   ]
  },
  {
   "attachments": {},
   "cell_type": "markdown",
   "id": "05acac53",
   "metadata": {},
   "source": [
    "## 5. Evaluate the model before training\n",
    "\n",
    "Since we haven't done any training on the model yet, it will evaluate using the original ImageNet trained model and accuracy on the new classes will be near zero."
   ]
  },
  {
   "cell_type": "markdown",
   "id": "3b973b33",
   "metadata": {},
   "source": [
    "##### Optional Argument\n",
    "-  **enable_auto_mixed_precision** (bool or None): Enable auto mixed precision for evaluation. Mixed precision uses both 16-bit and 32-bit floating point types to make evaluation run faster and use less memory. It is recommended to enable auto mixed precision when running on platforms that support bfloat16 (Intel third or fourth generation Xeon processors). If it is enabled on a platform that does not support bfloat16, it can be detrimental to the evaluation performance. If enable_auto_mixed_precision is set to None, auto mixed precision will be automatically enabled when running with Intel fourth generation Xeon processors, and disabled for other platforms."
   ]
  },
  {
   "cell_type": "code",
   "execution_count": null,
   "id": "12ab6b31",
   "metadata": {},
   "outputs": [],
   "source": [
    "enable_auto_mixed_precision = None\n",
    "\n",
    "model.evaluate(dataset, enable_auto_mixed_precision=enable_auto_mixed_precision)"
   ]
  },
  {
   "attachments": {},
   "cell_type": "markdown",
   "id": "7208e757",
   "metadata": {},
   "source": [
    "## 6. Transfer Learning\n",
    "\n",
    "This step calls the model's train function with the dataset that was just prepared. The training function will get the base model and add on a dense layer based on the number of classes in the dataset. The model is then compiled and trained based on the number of epochs specified in the argument. With the do_eval parameter set to True by default, this step will also show how the model can be evaluated and will return a list of metrics calculated from the dataset's validation subset."
   ]
  },
  {
   "attachments": {},
   "cell_type": "markdown",
   "id": "039db26f",
   "metadata": {},
   "source": [
    "### Arguments\n",
    "\n",
    "#### Required\n",
    "-  **dataset** (ImageClassificationDataset, required): Dataset to use when training the model\n",
    "-  **output_dir** (str): Path to a writeable directory for checkpoint files\n",
    "-  **epochs** (int): Number of epochs to train the model (default: 1)\n",
    "\n",
    "#### Optional\n",
    "-  **initial_checkpoints** (str): Path to checkpoint weights to load. If the path provided is a directory, the latest checkpoint will be used.\n",
    "-  **early_stopping** (bool): Enable early stopping if convergence is reached while training at the end of each epoch. (default: False)\n",
    "-  **lr_decay** (bool): If lr_decay is True and do_eval is True, learning rate decay on the validation loss is applied at the end of each epoch.\n",
    "-  **enable_auto_mixed_precision** (bool or None): Enable auto mixed precision for training. Mixed precision uses both 16-bit and 32-bit floating point types to make training run faster and use less memory. It is recommended to enable auto mixed precision training when running on platforms that support bfloat16 (Intel third or fourth generation Xeon processors). If it is enabled on a platform that does not support bfloat16, it can be detrimental to the training performance. If enable_auto_mixed_precision is set to None, auto mixed precision will be automatically enabled when running with Intel fourth generation Xeon processors, and disabled for other platforms.\n",
    "-  **extra_layers** (list[int]): Optionally insert additional dense layers between the base model and output layer. This can help increase accuracy when fine-tuning a TFHub model. The input should be a list of integers representing the number and size of the layers, for example [1024, 512] will insert two dense layers, the first with 1024 neurons and the second with 512 neurons.\n",
    "\n",
    "Note: refer to release documentation for an up-to-date list of train arguments and their current descriptions"
   ]
  },
  {
   "cell_type": "code",
   "execution_count": null,
   "id": "e7d51156",
   "metadata": {},
   "outputs": [],
   "source": [
    "enable_auto_mixed_precision = None\n",
    "\n",
    "# Train using the pretrained model from TF Hub with the new dataset\n",
    "history = model.train(dataset, output_dir=output_dir, epochs=1,\n",
    "                      enable_auto_mixed_precision=enable_auto_mixed_precision)"
   ]
  },
  {
   "attachments": {},
   "cell_type": "markdown",
   "id": "81f75fa0",
   "metadata": {},
   "source": [
    "This time, the accuracy looks much better."
   ]
  },
  {
   "attachments": {},
   "cell_type": "markdown",
   "id": "007cc8fe",
   "metadata": {},
   "source": [
    "## 7. Export\n",
    "\n",
    "Next, we can call the model `export` function to generate a `saved_model.pb`. The model is saved in a format that is ready to use with [TensorFlow Serving](https://github.com/tensorflow/serving). Each time the model is exported, a new numbered directory is created, which allows serving to pick up the latest model. "
   ]
  },
  {
   "cell_type": "code",
   "execution_count": null,
   "id": "eed84d55",
   "metadata": {},
   "outputs": [],
   "source": [
    "saved_model_dir = model.export(output_dir)"
   ]
  },
  {
   "attachments": {},
   "cell_type": "markdown",
   "id": "b3e1df1f",
   "metadata": {},
   "source": [
    "## 8. Graph Optimization\n",
    "\n",
    "The `tlt` API uses [Intel® Neural Compressor (INC)](https://github.com/intel/neural-compressor) to optimize the FP32 graph for improved inference performance. Graph optimization performs the following:\n",
    "* Converting variables to constants\n",
    "* Removing training-only operations like checkpoint saving\n",
    "* Stripping out parts of the graph that are never reached\n",
    "* Removing debug operations like CheckNumerics\n",
    "* Folding batch normalization ops into the pre-calculated weights\n",
    "* Fusing common operations into unified versions\n",
    "\n",
    "For benchmarking, we will use an auto-generated config. If you want more control over the configuration, you can create your own config using the Intel Neural Compressor or the `tlt.utils.inc_utils.get_inc_config()` method."
   ]
  },
  {
   "attachments": {},
   "cell_type": "markdown",
   "id": "e27391d9",
   "metadata": {},
   "source": [
    "We use the Intel Neural Compressor config to benchmark the full non-optimized model to see how it performs, as our baseline.\n",
    "\n",
    "> Note that there is a known issue when running Intel Neural Compressor from a notebook that you may sometimes see the error \n",
    "> `zmq.error.ZMQError: Address already in use`. If you see this error, rerun the cell again."
   ]
  },
  {
   "cell_type": "code",
   "execution_count": null,
   "id": "e4dbc03f",
   "metadata": {},
   "outputs": [],
   "source": [
    "result = model.benchmark(dataset)"
   ]
  },
  {
   "attachments": {},
   "cell_type": "markdown",
   "id": "64210d77",
   "metadata": {},
   "source": [
    "Next, we do the FP32 graph optimization."
   ]
  },
  {
   "cell_type": "code",
   "execution_count": null,
   "id": "0531bf13",
   "metadata": {},
   "outputs": [],
   "source": [
    "# Create an output directory for optimization output with the same base name as our saved model directory\n",
    "optimization_output_dir = os.path.join(output_dir, 'optimized_models', model.model_name,\n",
    "                                       os.path.basename(saved_model_dir))\n",
    "\n",
    "model.optimize_graph(optimization_output_dir, overwrite_model=True)"
   ]
  },
  {
   "cell_type": "code",
   "execution_count": null,
   "id": "77775e97",
   "metadata": {},
   "outputs": [],
   "source": [
    "optimized_result = model.benchmark(dataset, saved_model_dir=optimization_output_dir)"
   ]
  },
  {
   "attachments": {},
   "cell_type": "markdown",
   "id": "210fb6ff",
   "metadata": {},
   "source": [
    "## Dataset Citations\n",
    "\n",
    "```\n",
    "@ONLINE {tfflowers,\n",
    "author = \"The TensorFlow Team\",\n",
    "title = \"Flowers\",\n",
    "month = \"jan\",\n",
    "year = \"2019\",\n",
    "url = \"http://download.tensorflow.org/example_images/flower_photos.tgz\" }\n",
    "```"
   ]
  }
 ],
 "metadata": {
  "kernelspec": {
   "display_name": "Python 3 (ipykernel)",
   "language": "python",
   "name": "python3"
  },
  "language_info": {
   "codemirror_mode": {
    "name": "ipython",
    "version": 3
   },
   "file_extension": ".py",
   "mimetype": "text/x-python",
   "name": "python",
   "nbconvert_exporter": "python",
   "pygments_lexer": "ipython3",
   "version": "3.8.10"
  }
 },
 "nbformat": 4,
 "nbformat_minor": 5
}
