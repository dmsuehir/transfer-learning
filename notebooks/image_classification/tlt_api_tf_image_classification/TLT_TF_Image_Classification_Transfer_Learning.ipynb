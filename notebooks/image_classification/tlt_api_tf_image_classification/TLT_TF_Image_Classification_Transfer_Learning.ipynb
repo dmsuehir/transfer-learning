{
 "cells": [
  {
   "cell_type": "markdown",
   "id": "41a52dc9",
   "metadata": {},
   "source": [
    "# Transfer Learning for Image Classification using TensorFlow and the Intel® Transfer Learning Tool API\n",
    "\n",
    "This notebook uses the `tlt` library to do transfer learning for image classfication with a TensorFlow pretrained model."
   ]
  },
  {
   "cell_type": "markdown",
   "id": "d1432fd2",
   "metadata": {},
   "source": [
    "## 1. Import dependencies and setup parameters\n",
    "\n",
    "This notebook assumes that you have already followed the instructions to setup a TensorFlow environment with all the dependencies required to run the notebook."
   ]
  },
  {
   "cell_type": "code",
   "execution_count": null,
   "id": "b996490f",
   "metadata": {},
   "outputs": [],
   "source": [
    "import matplotlib.pyplot as plt\n",
    "import numpy as np\n",
    "import os\n",
    "import pandas as pd\n",
    "import PIL.Image as Image\n",
    "import tensorflow as tf\n",
    "\n",
    "# tlt imports\n",
    "from tlt.datasets import dataset_factory\n",
    "from tlt.models import model_factory\n",
    "from tlt.utils.file_utils import download_file, download_and_extract_tar_file\n",
    "\n",
    "# Specify a directory for the dataset to be downloaded\n",
    "dataset_dir = os.environ[\"DATASET_DIR\"] if \"DATASET_DIR\" in os.environ else \\\n",
    "    os.path.join(os.environ[\"HOME\"], \"dataset\")\n",
    "\n",
    "# Specify a directory for output\n",
    "output_dir = os.environ[\"OUTPUT_DIR\"] if \"OUTPUT_DIR\" in os.environ else \\\n",
    "    os.path.join(os.environ[\"HOME\"], \"output\")\n",
    "\n",
    "print(\"Dataset directory:\", dataset_dir)\n",
    "print(\"Output directory:\", output_dir)"
   ]
  },
  {
   "cell_type": "markdown",
   "id": "b18c4a5e",
   "metadata": {},
   "source": [
    "## 2. Get the model\n",
    "\n",
    "In this step, we call the Intel Transfer Learning Tool model factory to list supported TensorFlow image classification models. This is a list of pretrained models from [TFHub](https://tfhub.dev) and [Keras Applications](https://keras.io/api/applications/) that we tested with our API. Optionally, the `verbose=True` argument can be added to the `print_supported_models` function call to get more information about each model (such as the image size, the original dataset, the preprocessor, etc)."
   ]
  },
  {
   "cell_type": "code",
   "execution_count": null,
   "id": "11a2d427",
   "metadata": {},
   "outputs": [],
   "source": [
    "# See a list of available models\n",
    "model_factory.print_supported_models(use_case='image_classification', framework='tensorflow')"
   ]
  },
  {
   "cell_type": "markdown",
   "id": "384e7c0d",
   "metadata": {},
   "source": [
    "Next, use the model factory to get one of the models listed in the previous cell. The `get_model` function returns a model object that will later be used for training."
   ]
  },
  {
   "cell_type": "code",
   "execution_count": null,
   "id": "44d6f386",
   "metadata": {},
   "outputs": [],
   "source": [
    "model = model_factory.get_model(model_name='resnet_v1_50', framework='tensorflow')\n",
    "\n",
    "print(\"Model name:\", model.model_name)\n",
    "print(\"Framework:\", model.framework)\n",
    "print(\"Use case:\", model.use_case)\n",
    "print(\"Image size:\", model.image_size)"
   ]
  },
  {
   "cell_type": "markdown",
   "id": "e180d1fe",
   "metadata": {},
   "source": [
    "## 3. Get the dataset\n",
    "\n",
    "We call the dataset factory to get a sample image classification dataset. For demonstration purposes, we are using the [tf_flowers](https://www.tensorflow.org/datasets/catalog/tf_flowers) dataset from the [TensorFlow Datasets catalog](https://www.tensorflow.org/datasets). This dataset contains images of flowers in 5 different classes."
   ]
  },
  {
   "cell_type": "markdown",
   "id": "681d42e8",
   "metadata": {},
   "source": [
    "### Option A: Use your own dataset\n",
    "\n",
    "To use your own image dataset for transfer learning with the rest of this notebook, format your images as `.jpg` files and save them in folders named after the classes that you want the model to predict. To provide a working example using the correct layout, we will download a flower species dataset. After downloading and extracting, you will have the following  subdirectories in your dataset directory. Each species subfolder will contain numerous `.jpg` files:\n",
    "\n",
    "```\n",
    "flower_photos\n",
    "  └── daisy\n",
    "  └── dandelion\n",
    "  └── roses\n",
    "  └── sunflowers\n",
    "  └── tulips\n",
    "```\n",
    "\n",
    "When using your own dataset, ensure that it is similarly organized with folders for each class. Change the `custom_dataset_path` variable to point to your dataset folder."
   ]
  },
  {
   "cell_type": "code",
   "execution_count": null,
   "id": "01973de8",
   "metadata": {
    "tags": [
     "remove_for_tf_dataset"
    ]
   },
   "outputs": [],
   "source": [
    "# For demonstration purposes, we download a flowers dataset. To instead use your own dataset, set the\n",
    "# custom_dataset_path to point to your dataset's directory and comment out the download_and_extract_tar_file line.\n",
    "custom_dataset_path = os.path.join(dataset_dir, \"flower_photos\")\n",
    "\n",
    "if not os.path.exists(custom_dataset_path):\n",
    "    download_url = \"https://storage.googleapis.com/download.tensorflow.org/example_images/flower_photos.tgz\"\n",
    "    download_and_extract_tar_file(download_url, dataset_dir)"
   ]
  },
  {
   "cell_type": "markdown",
   "id": "b20dc2db",
   "metadata": {},
   "source": [
    "Call the dataset factory to load the dataset from the directory."
   ]
  },
  {
   "cell_type": "code",
   "execution_count": null,
   "id": "ce99cbb3",
   "metadata": {
    "tags": [
     "remove_for_tf_dataset"
    ]
   },
   "outputs": [],
   "source": [
    "# Load the dataset from the custom dataset path\n",
    "dataset = dataset_factory.load_dataset(dataset_dir=custom_dataset_path,\n",
    "                                       use_case='image_classification', \n",
    "                                       framework='tensorflow')\n",
    "\n",
    "print(\"Class names:\", str(dataset.class_names))"
   ]
  },
  {
   "cell_type": "markdown",
   "id": "34be95ae",
   "metadata": {},
   "source": [
    "Skip to the next step [4. Prepare the dataset](#4.-Prepare-the-dataset) to continue using the custom dataset."
   ]
  },
  {
   "cell_type": "markdown",
   "id": "2c68f367",
   "metadata": {},
   "source": [
    "### Option B: Use a dataset from the TensorFlow Datasets catalog"
   ]
  },
  {
   "cell_type": "code",
   "execution_count": null,
   "id": "b6b4cc26",
   "metadata": {
    "tags": [
     "remove_for_custom_dataset"
    ]
   },
   "outputs": [],
   "source": [
    "dataset = dataset_factory.get_dataset(dataset_dir=dataset_dir,\n",
    "                                      use_case='image_classification', \n",
    "                                      framework='tensorflow',\n",
    "                                      dataset_name='tf_flowers',\n",
    "                                      dataset_catalog='tf_datasets')\n",
    "\n",
    "print(dataset.info)\n",
    "\n",
    "print(\"\\nClass names:\", str(dataset.class_names))"
   ]
  },
  {
   "cell_type": "markdown",
   "id": "c3ec8cfe",
   "metadata": {},
   "source": [
    "## 4. Prepare the dataset\n",
    "\n",
    "Once you have your dataset from Option A or Option B above, use the following cells to split and preprocess the data. We split them into training and validation subsets, then resize the images to match the selected models, and then batch the images. Data augmentation can be applied by specifying the augmentations to be applied in __add_aug__ parameter. Supported augmentations are:\n",
    "1. hvflip - RandomHorizontalandVerticalFlip\n",
    "2. hflip - RandomHorizontalFlip\n",
    "3. vflip - RandomVerticalFlip\n",
    "4. rotate - RandomRotate\n",
    "5. zoom - RandomZoom"
   ]
  },
  {
   "cell_type": "code",
   "execution_count": null,
   "id": "4282456e",
   "metadata": {},
   "outputs": [],
   "source": [
    "# Split the dataset into training and validation subsets\n",
    "dataset.shuffle_split(train_pct=.75, val_pct=.25)"
   ]
  },
  {
   "cell_type": "code",
   "execution_count": null,
   "id": "c9789ded",
   "metadata": {},
   "outputs": [],
   "source": [
    "# Preprocess the dataset with an image size and preprocessor that match the model and a batch size of 32\n",
    "batch_size = 32\n",
    "dataset.preprocess(model.image_size, batch_size=batch_size, preprocessor=model.preprocessor)"
   ]
  },
  {
   "cell_type": "markdown",
   "id": "a5ff5539",
   "metadata": {},
   "source": [
    "## 5. Predict using the original model\n",
    "\n",
    "We get a single batch from our dataset, and use that to call predict on our model. Since we haven't done any training on the model yet, it will give us predictions using the original ImageNet trained model."
   ]
  },
  {
   "cell_type": "code",
   "execution_count": null,
   "id": "a620aec8",
   "metadata": {},
   "outputs": [],
   "source": [
    "# Get a single batch from the dataset\n",
    "images, labels = dataset.get_batch()\n",
    "labels = [dataset.class_names[id] for id in labels]\n",
    "\n",
    "# Download the ImageNet labels and load them into a list\n",
    "labels_file = \"https://storage.googleapis.com/download.tensorflow.org/data/ImageNetLabels.txt\"\n",
    "downloaded_file = tf.keras.utils.get_file(\"labels.txt\", origin=labels_file)\n",
    "imagenet_classes = []\n",
    "\n",
    "with open(downloaded_file) as f:\n",
    "    imagenet_labels = f.readlines()\n",
    "    imagenet_classes = [l.strip() for l in imagenet_labels]\n",
    "\n",
    "# Predict using the original model\n",
    "predictions = model.predict(images)\n",
    "predictions = [imagenet_classes[id] for id in predictions]"
   ]
  },
  {
   "cell_type": "code",
   "execution_count": null,
   "id": "ad8f845e",
   "metadata": {},
   "outputs": [],
   "source": [
    "# Display the images with the predicted ImageNet label\n",
    "plt.figure(figsize=(18,14))\n",
    "plt.subplots_adjust(hspace=0.5)\n",
    "\n",
    "for n in range(min(batch_size, 30)):\n",
    "    plt.subplot(6,5,n+1)\n",
    "    norm_images = (images[n]-np.min(images[n]))/(np.max(images[n])-np.min(images[n]))\n",
    "    plt.imshow(norm_images, vmin=np.min(norm_images), vmax=np.max(norm_images))\n",
    "    correct_prediction = labels[n] == predictions[n]\n",
    "    color = \"darkgreen\" if correct_prediction else \"crimson\"\n",
    "    title = predictions[n] if correct_prediction else \"{}\\n({})\".format(predictions[n], labels[n]) \n",
    "    plt.title(title, fontsize=14, color=color)\n",
    "    plt.axis('off')\n",
    "_ = plt.suptitle(\"ImageNet predictions\", fontsize=20)\n",
    "plt.show()\n",
    "\n",
    "print(\"Correct predictions are shown in green\")\n",
    "print(\"Incorrect predictions are shown in red with the actual label in parenthesis\")"
   ]
  },
  {
   "cell_type": "markdown",
   "id": "d875f7ea",
   "metadata": {},
   "source": [
    "## 6. Transfer Learning\n",
    "\n",
    "This step calls the model's train function with the dataset that was just prepared. The training function will get the base model and add on a dense layer based on the number of classes in the dataset. The model is then compiled and trained based on the number of epochs specified in the argument. With the do_eval paramter set to True by default, this step will also show how the model can be evaluated and will return a list of metrics calculated from the dataset's validation subset."
   ]
  },
  {
   "cell_type": "markdown",
   "id": "213faef5",
   "metadata": {},
   "source": [
    "### Arguments\n",
    "\n",
    "#### Required\n",
    "-  **dataset** (ImageClassificationDataset, required): Dataset to use when training the model\n",
    "-  **output_dir** (str): Path to a writeable directory for checkpoint files\n",
    "-  **epochs** (int): Number of epochs to train the model (default: 1)\n",
    "\n",
    "#### Optional\n",
    "-  **initial_checkpoints** (str): Path to checkpoint weights to load. If the path provided is a directory, the latest checkpoint will be used.\n",
    "-  **early_stopping** (bool): Enable early stopping if convergence is reached while training at the end of each epoch. (default: False)\n",
    "-  **lr_decay** (bool): If lr_decay is True and do_eval is True, learning rate decay on the validation loss is applied at the end of each epoch.\n",
    "-  **enable_auto_mixed_precision** (bool or None): Enable auto mixed precision for training. Mixed precision uses both 16-bit and 32-bit floating point types to make training run faster and use less memory. It is recommended to enable auto mixed precision training when running on platforms that support bfloat16 (Intel third or fourth generation Xeon processors). If it is enabled on a platform that does not support bfloat16, it can be detrimental to the training performance. If enable_auto_mixed_precision is set to None, auto mixed precision will be automatically enabled when running with Intel fourth generation Xeon processors, and disabled for other platforms.\n",
    "-  **extra_layers** (list[int]): Optionally insert additional dense layers between the base model and output layer. This can help increase accuracy when fine-tuning. The input should be a list of integers representing the number and size of the layers, for example [1024, 512] will insert two dense layers, the first with 1024 neurons and the second with 512 neurons.\n",
    "\n",
    "Note: refer to release documentation for an up-to-date list of train arguments and their current descriptions"
   ]
  },
  {
   "cell_type": "code",
   "execution_count": null,
   "id": "76041187",
   "metadata": {},
   "outputs": [],
   "source": [
    "enable_auto_mixed_precision = None\n",
    "\n",
    "# Train using the pretrained model with the new dataset\n",
    "history = model.train(dataset, output_dir=output_dir, epochs=1,\n",
    "                      enable_auto_mixed_precision=enable_auto_mixed_precision)"
   ]
  },
  {
   "cell_type": "markdown",
   "id": "d1c7e3af",
   "metadata": {},
   "source": [
    "## 7. Predict\n",
    "\n",
    "Let's predict using the same single batch that we used earlier with the ImageNet trained model to visualize the model's predictions after training."
   ]
  },
  {
   "cell_type": "code",
   "execution_count": null,
   "id": "721253eb",
   "metadata": {},
   "outputs": [],
   "source": [
    "# Predict with a single batch\n",
    "predictions = model.predict(images, enable_auto_mixed_precision=enable_auto_mixed_precision)\n",
    "\n",
    "# Map the predicted ids to the class names\n",
    "predictions = [dataset.class_names[id] for id in predictions]\n",
    "\n",
    "# Display the results\n",
    "plt.figure(figsize=(18,14))\n",
    "plt.subplots_adjust(hspace=0.5)\n",
    "\n",
    "for n in range(min(batch_size, 30)):\n",
    "    plt.subplot(6,5,n+1)\n",
    "    norm_images = (images[n]-np.min(images[n]))/(np.max(images[n])-np.min(images[n]))\n",
    "    plt.imshow(norm_images, vmin=np.min(norm_images), vmax=np.max(norm_images))\n",
    "    correct_prediction = labels[n] == predictions[n]\n",
    "    color = \"darkgreen\" if correct_prediction else \"crimson\"\n",
    "    title = predictions[n] if correct_prediction else \"{}\\n({})\".format(predictions[n], labels[n]) \n",
    "    plt.title(title, fontsize=14, color=color)\n",
    "    plt.axis('off')\n",
    "_ = plt.suptitle(\"Model predictions\", fontsize=16)\n",
    "plt.show()\n",
    "\n",
    "print(\"Correct predictions are shown in green\")\n",
    "print(\"Incorrect predictions are shown in red with the actual label in parenthesis\")"
   ]
  },
  {
   "cell_type": "markdown",
   "id": "54df401b",
   "metadata": {},
   "source": [
    "### Custom Single Image Prediction"
   ]
  },
  {
   "cell_type": "markdown",
   "id": "ff61b5ca",
   "metadata": {},
   "source": [
    "We can also predict using a single image that wasn't part of our original dataset. We download a flower image from the [Open Images Dataset](https://storage.googleapis.com/openimages/web/index.html) and then resize it to match our model."
   ]
  },
  {
   "cell_type": "code",
   "execution_count": null,
   "id": "14595bbc",
   "metadata": {},
   "outputs": [],
   "source": [
    "# Download an image from the web and resize it to match our model\n",
    "image_url = \"https://c8.staticflickr.com/8/7095/7210797228_c7fe51c3cb_z.jpg\"\n",
    "daisy = download_file(image_url, output_dir)\n",
    "\n",
    "image_shape = (model.image_size, model.image_size)\n",
    "daisy = Image.open(daisy).resize(image_shape)\n",
    "daisy"
   ]
  },
  {
   "cell_type": "markdown",
   "id": "a300e55c",
   "metadata": {},
   "source": [
    "Then, we call predict by passing the np array for our image and add a dimension to our array to represent the batch."
   ]
  },
  {
   "cell_type": "code",
   "execution_count": null,
   "id": "cfaa39dd",
   "metadata": {},
   "outputs": [],
   "source": [
    "# Get the image as a np array and call predict while adding a batch dimension (with np.newaxis) \n",
    "daisy = np.array(daisy)/255.0\n",
    "result = model.predict(daisy[np.newaxis, ...])\n",
    "\n",
    "# Print the predicted class name\n",
    "print(dataset.class_names[result[0]])"
   ]
  },
  {
   "cell_type": "markdown",
   "id": "9d4830f0",
   "metadata": {},
   "source": [
    "## 8. Export\n",
    "\n",
    "Next, we can call the model `export` function to generate a `saved_model.pb`. The model is saved in a format that is ready to use with [TensorFlow Serving](https://github.com/tensorflow/serving). Each time the model is exported, a new numbered directory is created, which allows serving to pick up the latest model. "
   ]
  },
  {
   "cell_type": "code",
   "execution_count": null,
   "id": "aafcd747",
   "metadata": {},
   "outputs": [],
   "source": [
    "saved_model_dir = model.export(output_dir)"
   ]
  },
  {
   "cell_type": "markdown",
   "id": "f66f4b1d",
   "metadata": {},
   "source": [
    "## 9. Post-training quantization\n",
    "\n",
    "In this section, the  `tlt` API uses [Intel® Neural Compressor (INC)](https://github.com/intel/neural-compressor) to benchmark and quantize the model to get optimal inference performance."
   ]
  },
  {
   "cell_type": "markdown",
   "id": "f0edeffe",
   "metadata": {},
   "source": [
    "We use the Intel Neural Compressor config to benchmark the full precision model to see how it performs, as our baseline.\n",
    "\n",
    "> Note that there is a known issue when running Intel Neural Compressor from a notebook that you may sometimes see the error \n",
    "> `zmq.error.ZMQError: Address already in use`. If you see this error, rerun the cell again.\n",
    "\n",
    "> Likewise, if the benchmark function returns an empty dictionary `{}`, run the cell again."
   ]
  },
  {
   "cell_type": "code",
   "execution_count": null,
   "id": "3ee783f7",
   "metadata": {},
   "outputs": [],
   "source": [
    "model.benchmark(dataset=dataset)"
   ]
  },
  {
   "cell_type": "markdown",
   "id": "4761363e",
   "metadata": {},
   "source": [
    "Next we use Intel Neural Compressor to automatically search for the optimal quantization recipe for low-precision model inference within the accuracy loss constrains defined in the config. Running post training quantization may take several minutes, depending on your hardware and the exit policy (timeout and max trials)."
   ]
  },
  {
   "cell_type": "code",
   "execution_count": null,
   "id": "902200ca",
   "metadata": {},
   "outputs": [],
   "source": [
    "inc_output_dir = os.path.join(output_dir, 'quantized_models', model.model_name,\n",
    "                                       os.path.basename(saved_model_dir))\n",
    "model.quantize(inc_output_dir, dataset=dataset)"
   ]
  },
  {
   "cell_type": "markdown",
   "id": "0a298a32",
   "metadata": {},
   "source": [
    "Let's benchmark using the quantized model, so that we can compare the performance to the full precision model that was originally benchmarked."
   ]
  },
  {
   "cell_type": "code",
   "execution_count": null,
   "id": "ec65e1ee",
   "metadata": {},
   "outputs": [],
   "source": [
    "model.benchmark(dataset=dataset, saved_model_dir=inc_output_dir)"
   ]
  },
  {
   "cell_type": "markdown",
   "id": "18a6c74f",
   "metadata": {},
   "source": [
    "## Dataset Citations\n",
    "\n",
    "```\n",
    "@ONLINE {tfflowers,\n",
    "author = \"The TensorFlow Team\",\n",
    "title = \"Flowers\",\n",
    "month = \"jan\",\n",
    "year = \"2019\",\n",
    "url = \"http://download.tensorflow.org/example_images/flower_photos.tgz\" }\n",
    "\n",
    "@article{openimages,\n",
    "  title={OpenImages: A public dataset for large-scale multi-label and multi-class image classification.},\n",
    "  author={Krasin, Ivan and Duerig, Tom and Alldrin, Neil and Veit, Andreas and Abu-El-Haija, Sami\n",
    "    and Belongie, Serge and Cai, David and Feng, Zheyun and Ferrari, Vittorio and Gomes, Victor\n",
    "    and Gupta, Abhinav and Narayanan, Dhyanesh and Sun, Chen and Chechik, Gal and Murphy, Kevin},\n",
    "  journal={Dataset available from https://github.com/openimages},\n",
    "  year={2016}\n",
    "}\n",
    "```"
   ]
  }
 ],
 "metadata": {
  "kernelspec": {
   "display_name": "Python 3 (ipykernel)",
   "language": "python",
   "name": "python3"
  },
  "language_info": {
   "codemirror_mode": {
    "name": "ipython",
    "version": 3
   },
   "file_extension": ".py",
   "mimetype": "text/x-python",
   "name": "python",
   "nbconvert_exporter": "python",
   "pygments_lexer": "ipython3",
   "version": "3.9.16"
  }
 },
 "nbformat": 4,
 "nbformat_minor": 5
}
