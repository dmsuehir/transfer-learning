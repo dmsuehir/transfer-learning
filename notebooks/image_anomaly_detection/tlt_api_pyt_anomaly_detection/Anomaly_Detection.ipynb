{
 "cells": [
  {
   "cell_type": "markdown",
   "id": "3405d28d",
   "metadata": {},
   "source": [
    "# Image Anomaly Detection  with PyTorch using <br>Intel® Transfer Learning Tool\n",
    "\n",
    "This notebook demonstrates anomaly detection using the Intel Transfer Learning Toolkit. It performs defect analysis with the MVTec dataset using PyTorch. The workflow uses a pretrained ResNet50 v1.5 model from torchvision."
   ]
  },
  {
   "cell_type": "markdown",
   "id": "71bc6125",
   "metadata": {},
   "source": [
    "###  Intel® Gaudi® AI accelerator\n",
    "To use HPU training and inference with Gaudi, follow these steps to install required HPU drivers and software from [README](/notebooks/image_anomaly_detection/tlt_api_pyt_anomaly_detection/README.md) or the official [Habana Docs](https://docs.habana.ai/en/latest/Installation_Guide/SW_Verification.html)"
   ]
  },
  {
   "cell_type": "markdown",
   "id": "1d61b7ac",
   "metadata": {},
   "source": [
    "## 1. Import dependencies and setup parameters\n",
    "\n",
    "This notebook assumes that you have already followed the instructions to setup a PyTorch environment with all the dependencies required to run the notebook.\n"
   ]
  },
  {
   "cell_type": "code",
   "execution_count": null,
   "id": "a0bf9fd0",
   "metadata": {},
   "outputs": [],
   "source": [
    "import matplotlib.pyplot as plt\n",
    "import numpy as np\n",
    "import os\n",
    "import pandas as pd\n",
    "import PIL.Image as Image\n",
    "import torch, torchvision\n",
    "from torchvision.transforms.functional import InterpolationMode\n",
    "import requests\n",
    "from io import BytesIO\n",
    "\n",
    "# tlt imports\n",
    "from tlt.datasets import dataset_factory\n",
    "from tlt.models import model_factory\n",
    "from tlt.utils.file_utils import download_and_extract_tar_file, download_file\n",
    "\n",
    "# Specify a directory for the dataset to be downloaded\n",
    "dataset_dir = os.environ[\"DATASET_DIR\"] if \"DATASET_DIR\" in os.environ else \\\n",
    "    os.path.join(os.environ[\"HOME\"], \"dataset\")\n",
    "     \n",
    "# Specify a directory for output\n",
    "output_dir = os.environ[\"OUTPUT_DIR\"] if \"OUTPUT_DIR\" in os.environ else \\\n",
    "    os.path.join(os.environ[\"HOME\"], \"output\")\n",
    "\n",
    "print(\"Dataset directory:\", dataset_dir)\n",
    "print(\"Output directory:\", output_dir)"
   ]
  },
  {
   "cell_type": "markdown",
   "id": "8f1fc78c",
   "metadata": {},
   "source": [
    "## 2. Get or load the model\n",
    "\n",
    "In this step, we use the model factory to get the desired model. The `get_model` function returns a pretrained model object from a public model hub, while the `load_model` function loads a pretrained model from a checkpoint on your local disk or in memory.\n",
    "\n",
    "Here we are getting the pretrained `resnet50` model from Torchvision:"
   ]
  },
  {
   "cell_type": "code",
   "execution_count": null,
   "id": "bb238c2a-8eea-4c4f-8586-fa7c0305f85a",
   "metadata": {},
   "outputs": [],
   "source": [
    "model_factory.print_supported_models(framework=\"pytorch\", use_case=\"anomaly_detection\", verbose = False,\n",
    "                           markdown=False)"
   ]
  },
  {
   "cell_type": "code",
   "execution_count": null,
   "id": "ad4aeafd",
   "metadata": {},
   "outputs": [],
   "source": [
    "# Set device=\"hpu\" to use Gaudi. If no HPU hardware or installs are detected, device will default to \"cpu\"\n",
    "model = model_factory.get_model(model_name=\"resnet50\", framework=\"pytorch\", use_case='anomaly_detection', device=\"cpu\")"
   ]
  },
  {
   "cell_type": "markdown",
   "id": "9d087ee7",
   "metadata": {},
   "source": [
    "To load a previously trained model from a file, use this:\n",
    "```\n",
    "model = model_factory.load_model(model_name=\"resnet50\", model=<PATH_TO_MODEL_FILE>, framework=\"pytorch\",     \n",
    "                                 use_case='anomaly_detection')\n",
    "```"
   ]
  },
  {
   "cell_type": "markdown",
   "id": "dabd4183",
   "metadata": {},
   "source": [
    "## 3. Get the dataset"
   ]
  },
  {
   "cell_type": "markdown",
   "id": "2d314ba0",
   "metadata": {},
   "source": [
    "To use [MVTec](https://www.mvtec.com/company/research/datasets/mvtec-ad) or your own image dataset for anomaly detection, your image files (`.jpg` or `.png`) should be arranged in one of two ways. \n",
    "\n",
    "### Method 1: Category Folders\n",
    "\n",
    "Arrange them in folders in the root dataset directory like this:\n",
    "\n",
    "```\n",
    "hazelnut\n",
    "  └── crack\n",
    "  └── cut\n",
    "  └── good\n",
    "  └── hole\n",
    "  └── print\n",
    "```\n",
    "\n",
    "<b>IMPORTANT:</b> There must be a subfolder named `good` and at least one other folder of defective examples. It does not matter what the names of the other folders are or how many there, as long as there is at least one. This would also be an acceptable Method 1 layout:\n",
    "\n",
    "```\n",
    "toothbrush\n",
    "  └── defective\n",
    "  └── good\n",
    "```\n",
    "\n",
    "TLT will encode all of the non-good images as \"bad\" and use the \"good\" images in the training set and a mix of good and bad images in the validation set.\n",
    "\n",
    "### Method 2: Train & Test Folders with Category Subfolders\n",
    "\n",
    "Arrange them in folders in the root dataset directory like this:\n",
    "\n",
    "```\n",
    "hazelnut\n",
    "  └── train\n",
    "      └── good\n",
    "  └── test\n",
    "      └── crack\n",
    "      └── cut\n",
    "      └── good\n",
    "      └── hole\n",
    "      └── print\n",
    "```\n",
    "\n",
    "When using this layout, TLT will use the exact defined split for train and validation subsets unless you use the `shuffle_split` method to re-shuffle and split up the \"good\" images with certain percentages. "
   ]
  },
  {
   "cell_type": "code",
   "execution_count": null,
   "id": "64b24c5b-9b48-4041-a6a2-7c438ca3a0c5",
   "metadata": {},
   "outputs": [],
   "source": [
    "img_dir = os.path.join(dataset_dir, 'hazelnut')"
   ]
  },
  {
   "cell_type": "code",
   "execution_count": null,
   "id": "357f3dfd",
   "metadata": {},
   "outputs": [],
   "source": [
    "dataset = dataset_factory.load_dataset(img_dir, \n",
    "                                       use_case='image_anomaly_detection', \n",
    "                                       framework=\"pytorch\")\n",
    "\n",
    "print(dataset._dataset)\n",
    "print(\"Class names:\", str(dataset.class_names))\n",
    "print(\"Defect names:\", dataset.defect_names)"
   ]
  },
  {
   "cell_type": "markdown",
   "id": "2200ef4e",
   "metadata": {},
   "source": [
    "Note: The defects argument can be used to filter the validation set to use only a subset of defect types. For example:\n",
    "```\n",
    "dataset = dataset_factory.load_dataset(img_dir, \n",
    "                                       use_case='image_anomaly_detection', \n",
    "                                       framework=\"pytorch\",\n",
    "                                       defects=['crack', 'hole'])\n",
    "```"
   ]
  },
  {
   "cell_type": "markdown",
   "id": "99f23249",
   "metadata": {},
   "source": [
    "## 4. Prepare the dataset\n",
    "Once you have your dataset, use the following cells to split and preprocess the data. We split them into training and test subsets, then resize the images to match the selected model, and then batch the images. Pass in optional arguments to customize the [Resize](https://pytorch.org/vision/main/generated/torchvision.transforms.Resize.html) or [Normalize](https://pytorch.org/vision/main/generated/torchvision.transforms.Normalize.html) transforms.\n",
    "Data augmentation can be applied to the training set by specifying the augmentations to be applied in the `add_aug` parameter. Supported augmentations are given below:\n",
    "1. hflip - RandomHorizontalFlip\n",
    "2. rotate - RandomRotate"
   ]
  },
  {
   "cell_type": "code",
   "execution_count": null,
   "id": "dd91fbcf",
   "metadata": {},
   "outputs": [],
   "source": [
    "# If using Method 1 layout, split the dataset into training and test subsets.\n",
    "if dataset._validation_type is None:\n",
    "    dataset.shuffle_split(train_pct=.75, val_pct=0.0, test_pct=0.25)"
   ]
  },
  {
   "cell_type": "markdown",
   "id": "4fbe27a3-1b1e-4add-9725-28bceb62c474",
   "metadata": {},
   "source": [
    "For __cutpaste__ feature extractor, cutpaste_type can be specified in the dataset.preprocess() method as follows. The option available are - _normal_, _scar_, _3way_ and _union_. Default is _normal_.\n",
    "```\n",
    "dataset.preprocess(224, batch_size=batch_size, interpolation=InterpolationMode.LANCZOS, cutpaste_type='normal')\n",
    "```"
   ]
  },
  {
   "cell_type": "code",
   "execution_count": null,
   "id": "e7c95a70",
   "metadata": {},
   "outputs": [],
   "source": [
    "# Preprocess with an image size that matches the model, batch size 32, and the desired interpolation method\n",
    "batch_size = 64\n",
    "cutpaste_type = 'normal'\n",
    "dataset.preprocess(image_size=224, batch_size=batch_size, interpolation=InterpolationMode.LANCZOS, cutpaste_type=cutpaste_type)"
   ]
  },
  {
   "cell_type": "markdown",
   "id": "3704772b",
   "metadata": {},
   "source": [
    "## 5. Visualize samples from the dataset\n",
    "\n",
    "We get a single batch from our training and test subsets and visualize the images as a sanity check."
   ]
  },
  {
   "cell_type": "code",
   "execution_count": null,
   "id": "cd6782b0",
   "metadata": {},
   "outputs": [],
   "source": [
    "def plot_images(images, labels, sup_title, predictions=None):\n",
    "    plt.figure(figsize=(18,14))\n",
    "    plt.subplots_adjust(hspace=0.5)\n",
    "    for n in range(min(batch_size, 30)):\n",
    "        plt.subplot(6,5,n+1)\n",
    "        inp = images[n]\n",
    "        inp = inp.numpy().transpose((1, 2, 0))\n",
    "        mean = np.array([0.485, 0.456, 0.406])\n",
    "        std = np.array([0.229, 0.224, 0.225])\n",
    "        inp = std * inp + mean\n",
    "        inp = np.clip(inp, 0, 1)\n",
    "        plt.imshow(inp)\n",
    "        if predictions:\n",
    "            correct_prediction = labels[n] == predictions[n]\n",
    "            color = \"darkgreen\" if correct_prediction else \"crimson\"\n",
    "            title = predictions[n] if correct_prediction else \"{}\".format(predictions[n])\n",
    "        else:\n",
    "            good_sample = labels[n] == 'good'\n",
    "            color = \"darkgreen\" if labels[n] == 'good' else (\"crimson\" if labels[n] == 'bad' else \"black\")\n",
    "            title = labels[n]\n",
    "        plt.title(title, fontsize=14, color=color)\n",
    "        plt.axis('off')\n",
    "    _ = plt.suptitle(sup_title, fontsize=20)\n",
    "    plt.show()"
   ]
  },
  {
   "cell_type": "code",
   "execution_count": null,
   "id": "ffcd2071",
   "metadata": {},
   "outputs": [],
   "source": [
    "# Plot some images from the training set\n",
    "images, labels = dataset.get_batch()\n",
    "labels = [dataset.class_names[id] for id in labels]\n",
    "plot_images(images, labels, 'Training Samples')"
   ]
  },
  {
   "cell_type": "code",
   "execution_count": null,
   "id": "d37b808f",
   "metadata": {},
   "outputs": [],
   "source": [
    "# Plot some images from the test set\n",
    "images, labels = dataset.get_batch(subset='test')\n",
    "labels = [dataset.class_names[id] for id in labels]\n",
    "plot_images(images, labels, 'Test Samples')"
   ]
  },
  {
   "cell_type": "markdown",
   "id": "a49ec7b7",
   "metadata": {},
   "source": [
    "## 6. Training and Evaluation\n",
    "\n",
    "This step calls the model's train function with the dataset that was just prepared. The training function will get the torchvision feature extractor for the user's desired layer and extract features from the training set. The extracted features are used to perform a [principal component analysis](https://scikit-learn.org/stable/modules/generated/sklearn.decomposition.PCA.html). The model's evaluate function returns the AUROC metric ([area under](https://scikit-learn.org/stable/modules/generated/sklearn.metrics.auc.html) the [roc curve](https://scikit-learn.org/stable/modules/generated/sklearn.metrics.roc_curve.html)) calculated from the dataset's test subset."
   ]
  },
  {
   "cell_type": "markdown",
   "id": "b19be956-e3c6-4d9d-847d-779c1c35da38",
   "metadata": {},
   "source": [
    "## Feature Extraction\n",
    "There are three feature extractor options available within the `model.train()` function.\n",
    "1. __No fine-tuning__ - To use a pretrained ResNet50/ResNet18 model for feature extraction, simply do not change the default `simsiam=False` input argument.\n",
    "2. [__SimSiam__](https://arxiv.org/abs/2011.10566) - A self-supervised neural network based on Siamese networks. It learns a meaningful representation of dataset without using any labels. If selected, SimSiam generates quality features that can help differentiate between regular and anomaly images in a given context. SimSiam produces two different augmented images from one underlying image. The end goal is to train the network to produce the same features for both images. It takes a ResNet model as the backbone and fine-tunes the model on the augmented dataset to get a better feature embedding. To use this feature extractor, download the SimSiam weights based on ResNet50 - https://dl.fbaipublicfiles.com/simsiam/models/100ep-256bs/pretrain/checkpoint_0099.pth.tar - set `simsiam=True`, and set `initial_checkpoints` to the path of the downloaded checkpoints in the `model.train()` function.\n",
    "3. [__Cut-paste__](https://arxiv.org/abs/2104.04015#) - A self-supervised method for Anomaly Detection and Localization that takes ResNet50/ ResNet18 model as backbone and fine-tune the model on custom dataset to get better feature embedding. data augmentation strategy that cuts an image patch and pastes at a random location of a large image. To use this feature extractor, set `cutpaste=True` in the `model.train()` function.\n",
    "\n",
    "\n",
    "### Optional: The SimSiam TwoCropTransform\n",
    "To train a Simsiam model, it is required to apply a TwoCropTransform augmentation technique on the dataset used for training. You can preview this augmentation on a sample batch after preprocessing by using `get_batch(simsiam=True)` and then use them for simsiam training by using `simsiam=True` in `model.train()` also."
   ]
  },
  {
   "cell_type": "code",
   "execution_count": null,
   "id": "6b49522f",
   "metadata": {},
   "outputs": [],
   "source": [
    "# Get a batch of training data with the simsiam transform applied to it\n",
    "simsiam_images, _ = dataset.get_batch(simsiam=True)\n",
    "\n",
    "# Plot the \"A\" samples showing the first set of augmented images\n",
    "plot_images(simsiam_images[0], ['{}A'.format(i) for i in range(batch_size)], 'SimSiam \"A\" Samples')"
   ]
  },
  {
   "cell_type": "code",
   "execution_count": null,
   "id": "a5da06df",
   "metadata": {},
   "outputs": [],
   "source": [
    "# Now plot the \"B\" samples showing the second set of augmented images based on the same underlying originals\n",
    "plot_images(simsiam_images[1], ['{}B'.format(i) for i in range(batch_size)], 'SimSiam \"B\" Samples')"
   ]
  },
  {
   "cell_type": "markdown",
   "id": "ace7d296-74d9-47c1-aeaf-386433bac411",
   "metadata": {},
   "source": [
    "### Optional: The Cut-paste Transforms\n",
    "To train a model with Cut-paste , it is required to apply one of the four augmentations - __CutPasteNormal, CutPasteScar, CutPaste3Way, CutPasteUnion__ on the dataset used for training. You can preview this augmentation on a sample batch after preprocessing by using `get_batch(cutpaste=True)` and then use them for cutpaste training by using `cutpaste=True` in `model.train()` also."
   ]
  },
  {
   "cell_type": "code",
   "execution_count": null,
   "id": "21cbadd5-8387-4130-b5b4-e016d4ea4e5e",
   "metadata": {},
   "outputs": [],
   "source": [
    "# Get a batch of training data with the cutpaste transform applied to it\n",
    "cutpaste_images, _ = dataset.get_batch(cutpaste=True)\n",
    "\n",
    "# Plot the \"A\" samples showing the first set of augmented images\n",
    "plot_images(cutpaste_images[1], ['{}A'.format(i) for i in range(batch_size)], 'CutPaste \"A\" Samples')"
   ]
  },
  {
   "cell_type": "code",
   "execution_count": null,
   "id": "750bc599-80e4-4e70-8aaf-5f63082b9198",
   "metadata": {},
   "outputs": [],
   "source": [
    "if cutpaste_type == '3way':\n",
    "    # Now plot the \"B\" samples showing the third set of augmented images based on the same underlying originals\n",
    "    plot_images(cutpaste_images[2], ['{}B'.format(i) for i in range(batch_size)], 'CutPaste \"B\" Samples')"
   ]
  },
  {
   "cell_type": "markdown",
   "id": "a2ba878d-1b03-4f7c-8f5a-6507ee1494a9",
   "metadata": {},
   "source": [
    "There is no fine-tuning being demonstrated here, but you can use `simsiam` or `cutpaste` if desired.\n",
    "\n",
    "To use simsiam, set `simsiam=True` and pass the checkpoint file to `model.train()` as follows\n",
    "```\n",
    "pca_components, trained_model = model.train(dataset, output_dir, epochs=2, feature_dim=1000,\n",
    "                         pred_dim=250, initial_checkpoints=<PATH_TO_CHECKPOINTS_FILE>,\n",
    "                         pooling='avg', kernel_size=2, pca_threshold=0.99, simsiam=True,\n",
    "                         generate_checkpoints=False, precision='float32')\n",
    "```\n",
    "\n",
    "To use cutpaste, set `cutpaste=True`. Optionally, to load a pretrained checkpoint pass the checkpoint file to `model.train()` as follows.\n",
    "```\n",
    "pca_components, trained_model = model.train(dataset, output_dir, optim='sgd', epochs=2, freeze_resnet=20,\n",
    "                         head_layer=2, cutpaste_type='normal', initial_checkpoints=<PATH_TO_CHECKPOINTS_FILE>,\n",
    "                         pooling='avg', kernel_size=2, pca_threshold=0.99, cutpaste=True,\n",
    "                         generate_checkpoints=False, precision='float32')\n",
    "```"
   ]
  },
  {
   "cell_type": "markdown",
   "id": "759bc3ea",
   "metadata": {},
   "source": [
    "## Train Arguments\n",
    "\n",
    "#### Required\n",
    "-  **dataset** (ImageAnomalyDetectionDataset, required): Dataset to use when training the model\n",
    "-  **output_dir** (str): Path to a writeable directory\n",
    "\n",
    "#### Optional\n",
    "-  **generate_checkpoints** (bool): Whether to save/preserve the best weights during SimSiam training (default: True)\n",
    "-  **initial_checkpoints** (str): The path to a starting weights file\n",
    "-  **layer_name** (str): The layer name whose output is desired for the extracted features\n",
    "-  **pooling** (str): Pooling to be applied on the extracted layer ('avg' or 'max') (default: 'avg')\n",
    "-  **kernel_size** (int): Kernel size in the pooling layer (default: 2)\n",
    "-  **pca_threshold** (float): Threshold to apply to PCA model (default: 0.99)\n",
    "-  **ipex_optimize** (bool): Use Intel Extension for PyTorch for fine-turning (default: True)\n",
    "-  **enable_auto_mixed_precision** (bool or None): Enable auto mixed precision for fine-tuning. Mixed precision\n",
    "        uses both 16-bit and 32-bit floating point types to make training run faster and use less memory.\n",
    "        It is recommended to enable auto mixed precision training when running on platforms that support\n",
    "        bfloat16 (Intel third or fourth generation Xeon processors). If it is enabled on a platform that\n",
    "        does not support bfloat16, it can be detrimental to the training performance. If\n",
    "        enable_auto_mixed_precision is set to None, auto mixed precision will be automatically enabled \n",
    "        when running with Intel fourth generation Xeon processors, and disabled for other platforms. \n",
    "        (default: None)\n",
    "-  **device** (str): Enter `\"cpu\"` or `\"hpu\"` to specify which hardware device to run training on. If `device=\"hpu\"` is specified,\n",
    "        but no HPU hardware or installs are detected, CPU will be used. (default: \"cpu\")\n",
    "\n",
    "Note: refer to release documentation for an up-to-date list of train arguments and their current descriptions"
   ]
  },
  {
   "cell_type": "code",
   "execution_count": null,
   "id": "8cd9420d",
   "metadata": {},
   "outputs": [],
   "source": [
    "# Examine the model's layers and decide which to use for feature extraction\n",
    "model.list_layers(verbose=False)\n",
    "layer = 'layer3'"
   ]
  },
  {
   "cell_type": "code",
   "execution_count": null,
   "id": "a2b601fc",
   "metadata": {},
   "outputs": [],
   "source": [
    "pca_components, trained_model = model.train(dataset, output_dir, epochs=2, layer_name=layer,\n",
    "                                           seed=None, pooling='avg', kernel_size=2, pca_threshold=0.99)"
   ]
  },
  {
   "cell_type": "code",
   "execution_count": null,
   "id": "6f60192d",
   "metadata": {},
   "outputs": [],
   "source": [
    "threshold, auroc = model.evaluate(dataset, pca_components, use_test_set=True)"
   ]
  },
  {
   "cell_type": "markdown",
   "id": "3cb8fc62",
   "metadata": {},
   "source": [
    "## 7. Predict\n",
    "\n",
    "Using the same batch of test samples from above, get and view the model's predictions."
   ]
  },
  {
   "cell_type": "code",
   "execution_count": null,
   "id": "1f7ffe59",
   "metadata": {},
   "outputs": [],
   "source": [
    "predictions = model.predict(images, pca_components, return_type='class', threshold=threshold)"
   ]
  },
  {
   "cell_type": "code",
   "execution_count": null,
   "id": "a40d0670",
   "metadata": {},
   "outputs": [],
   "source": [
    "plot_images(images, labels, 'Predictions', predictions=predictions)\n",
    "print(\"Correct predictions are shown in green\")\n",
    "print(\"Incorrect predictions are shown in red\")\n",
    "\n",
    "accuracy = sum([1 if p==labels[i] else 0 for i, p in enumerate(predictions)])/len(predictions)\n",
    "print(\"Accuracy: {}\".format(accuracy))"
   ]
  },
  {
   "cell_type": "markdown",
   "id": "0a877f33",
   "metadata": {},
   "source": [
    "## 8. Export"
   ]
  },
  {
   "cell_type": "code",
   "execution_count": null,
   "id": "abc054ff",
   "metadata": {},
   "outputs": [],
   "source": [
    "saved_model_dir = model.export(os.path.join(output_dir, 'anomaly'))"
   ]
  },
  {
   "cell_type": "markdown",
   "id": "860d5204",
   "metadata": {},
   "source": [
    "## 9. Post-training quantization\n",
    "\n",
    "In this section, the  `tlt` API uses [Intel® Neural Compressor (INC)](https://github.com/intel/neural-compressor) to benchmark and quantize the feature extraction model to get optimal inference performance.\n",
    "\n",
    "Please note that Benchmark and Quantization is only compatible with CPU models at this time, due to the IPEX backend\n",
    "\n",
    "We use the Intel Neural Compressor to benchmark the full precision model to see how it performs, as our baseline.\n",
    "\n",
    "> Note that there is a known issue when running Intel Neural Compressor from a notebook that you may sometimes see the error \n",
    "> `zmq.error.ZMQError: Address already in use`. If you see this error, rerun the cell again."
   ]
  },
  {
   "cell_type": "code",
   "execution_count": null,
   "id": "c451627e",
   "metadata": {},
   "outputs": [],
   "source": [
    "results = model.benchmark(dataset=dataset)"
   ]
  },
  {
   "cell_type": "markdown",
   "id": "c61cac97",
   "metadata": {},
   "source": [
    "Next we use Intel Neural Compressor to automatically search for the optimal quantization recipe for low-precision model inference. Running post-training quantization may take several minutes, depending on your hardware."
   ]
  },
  {
   "cell_type": "code",
   "execution_count": null,
   "id": "8f3d3484",
   "metadata": {},
   "outputs": [],
   "source": [
    "inc_output_dir = os.path.join(output_dir, 'quantized_models', model.model_name,\n",
    "                                       os.path.basename(saved_model_dir))\n",
    "model.quantize(inc_output_dir, dataset=dataset)"
   ]
  },
  {
   "cell_type": "markdown",
   "id": "bb633aff",
   "metadata": {},
   "source": [
    "Let's benchmark using the quantized model, so that we can compare the performance to the full precision model that was originally benchmarked."
   ]
  },
  {
   "cell_type": "code",
   "execution_count": null,
   "id": "b96ba8ee",
   "metadata": {},
   "outputs": [],
   "source": [
    "quantized_results = model.benchmark(dataset=dataset, saved_model_dir=inc_output_dir)"
   ]
  },
  {
   "cell_type": "markdown",
   "id": "0947915a",
   "metadata": {},
   "source": [
    "## Dataset Citations\n",
    "\n",
    "Paul Bergmann, Kilian Batzner, Michael Fauser, David Sattlegger, Carsten Steger: The MVTec Anomaly Detection Dataset: A Comprehensive Real-World Dataset for Unsupervised Anomaly Detection; in: International Journal of Computer Vision 129(4):1038-1059, 2021, DOI: 10.1007/s11263-020-01400-4.\n",
    "\n",
    "Paul Bergmann, Michael Fauser, David Sattlegger, Carsten Steger: MVTec AD — A Comprehensive Real-World Dataset for Unsupervised Anomaly Detection; in: IEEE/CVF Conference on Computer Vision and Pattern Recognition (CVPR), 9584-9592, 2019, DOI: 10.1109/CVPR.2019.00982."
   ]
  }
 ],
 "metadata": {
  "kernelspec": {
   "display_name": "Python 3 (ipykernel)",
   "language": "python",
   "name": "python3"
  },
  "language_info": {
   "codemirror_mode": {
    "name": "ipython",
    "version": 3
   },
   "file_extension": ".py",
   "mimetype": "text/x-python",
   "name": "python",
   "nbconvert_exporter": "python",
   "pygments_lexer": "ipython3",
   "version": "3.9.17"
  }
 },
 "nbformat": 4,
 "nbformat_minor": 5
}
