{
 "cells": [
  {
   "cell_type": "markdown",
   "id": "ac1059eb",
   "metadata": {},
   "source": [
    "# Text Classification fine tuning using TensorFlow and the Intel® Transfer Learning Tool API\n",
    "\n",
    "This notebook uses the `tlt` library to fine tune a TensorFlow pretrained model from Hugging Face for text classification."
   ]
  },
  {
   "cell_type": "markdown",
   "id": "0bb70464",
   "metadata": {},
   "source": [
    "## 1. Import dependencies and setup parameters\n",
    "\n",
    "This notebook assumes that you have already followed the instructions to setup a TensorFlow environment with all the dependencies required to run the notebook."
   ]
  },
  {
   "cell_type": "code",
   "execution_count": null,
   "id": "20ab9972",
   "metadata": {},
   "outputs": [],
   "source": [
    "import numpy as np\n",
    "import os\n",
    "import pandas as pd\n",
    "import tensorflow as tf\n",
    "\n",
    "# tlt imports\n",
    "from tlt.datasets import dataset_factory\n",
    "from tlt.models import model_factory\n",
    "from tlt.utils.file_utils import download_and_extract_zip_file\n",
    "\n",
    "# Specify a directory for the dataset to be downloaded\n",
    "dataset_dir = os.environ[\"DATASET_DIR\"] if \"DATASET_DIR\" in os.environ else \\\n",
    "    os.path.join(os.environ[\"HOME\"], \"dataset\")\n",
    "     \n",
    "# Specify a directory for output\n",
    "output_dir = os.environ[\"OUTPUT_DIR\"] if \"OUTPUT_DIR\" in os.environ else \\\n",
    "    os.path.join(os.environ[\"HOME\"], \"output\")\n",
    "\n",
    "print(\"Dataset directory:\", dataset_dir)\n",
    "print(\"Output directory:\", output_dir)"
   ]
  },
  {
   "cell_type": "markdown",
   "id": "47787deb",
   "metadata": {},
   "source": [
    "## 2. Get the model\n",
    "\n",
    "In this step, we call the Intel Transfer Learning Tool model factory to list supported TensorFlow image classification models. This is a list of pretrained models from Hugging Face that we tested with our API. Optionally, the `verbose=True` argument can be added to the `print_supported_models` function call to get more information about each model (such as the model hub, the original dataset, etc)."
   ]
  },
  {
   "cell_type": "code",
   "execution_count": null,
   "id": "52a4af60",
   "metadata": {},
   "outputs": [],
   "source": [
    "# See a list of available text classification models\n",
    "model_factory.print_supported_models(use_case='text_classification', framework='tensorflow')"
   ]
  },
  {
   "cell_type": "markdown",
   "id": "7293733f",
   "metadata": {},
   "source": [
    "Use the Intel Transfer Learning Tool model factory to get one of the models listed in the previous cell. The `get_model` function returns a TLT model object that will later be used for training."
   ]
  },
  {
   "cell_type": "code",
   "execution_count": null,
   "id": "050d7b0a",
   "metadata": {},
   "outputs": [],
   "source": [
    "model_name = \"google_bert_uncased_L-2_H-128_A-2\"\n",
    "framework = \"tensorflow\"\n",
    "\n",
    "model = model_factory.get_model(model_name, framework)\n",
    "\n",
    "print(\"Model name:\", model.model_name)\n",
    "print(\"Framework:\", model.framework)\n",
    "print(\"Use case:\", model.use_case)"
   ]
  },
  {
   "cell_type": "markdown",
   "id": "37bf5a93",
   "metadata": {},
   "source": [
    "## 3. Get the dataset"
   ]
  },
  {
   "cell_type": "markdown",
   "id": "6867f79e",
   "metadata": {},
   "source": [
    "### Option A: Use your own dataset\n",
    "This option allows for using your own text classification dataset from a .csv file. The dataset factory will expect text classification .csv files to have two columns where the first column is the label and the second column is the text/sentence to classify.\n",
    "\n",
    "For example, the contents of a comma separated value file should look similar to this:\n",
    "```\n",
    "<label>,<text>\n",
    "<label>,<text>\n",
    "<label>,<text>\n",
    "```\n",
    "\n",
    "If the .csv has more columns, the `select_cols` or `exclude_cols` parameters can be used to filter out which columns are parsed.\n",
    "\n",
    "This example is downloading the [SMS Spam Collection](https://archive.ics.uci.edu/ml/datasets/sms+spam+collection) dataset, which has a tab separated value file in the .zip file. This dataset has labeled SMS text messages that are either being classified as `ham` or `spam`. The first column in the data file has the label (`ham` or `spam`) and the second column is the text of the SMS mesage. (Note: Please see this dataset's applicable license for terms and conditions. Intel Corporation does not own the rights to this data set and does not confer any rights to it.)\n",
    "\n",
    "When using your own dataset, update the path to your dataset directory, as well the other variables with properties about the dataset like the csv file name, class names, delimiter, header, and the map function (if string labels need to be translated into numerical values)."
   ]
  },
  {
   "cell_type": "code",
   "execution_count": null,
   "id": "41edc8fc",
   "metadata": {
    "tags": [
     "remove_for_tf_dataset"
    ]
   },
   "outputs": [],
   "source": [
    "zip_file_url = \"https://archive.ics.uci.edu/static/public/228/sms+spam+collection.zip\"\n",
    "sms_data_directory = os.path.join(dataset_dir, \"sms_spam_collection\")\n",
    "csv_file_name = \"SMSSpamCollection\"\n",
    "\n",
    "# If the SMS Spam collection csv file is not found, download and extract the file:\n",
    "if not os.path.exists(os.path.join(sms_data_directory, csv_file_name)):\n",
    "    # Download the zip file with the SMS Spam collection dataset\n",
    "    download_and_extract_zip_file(zip_file_url, sms_data_directory)\n",
    "\n",
    "    # Print list of files that we have in our dataset directory\n",
    "    print(os.listdir(sms_data_directory))\n",
    "    \n",
    "# Specify the class names for the dataset being used\n",
    "class_names = [\"ham\", \"spam\"]\n",
    "\n",
    "# Specify the delimiter for the csv file\n",
    "delimiter = \"\\t\"\n",
    "\n",
    "# Specify if the csv file has a header row that should be skipped when parsing the dataset\n",
    "header = False\n",
    "\n",
    "# Function to map the string label from the dataset to a numerical value\n",
    "def label_map_func(x):\n",
    "    return int(x == \"spam\")"
   ]
  },
  {
   "cell_type": "markdown",
   "id": "f93d5eed",
   "metadata": {},
   "source": [
    "After the dataset has been downloaded and extracted, use the dataset factory to load the dataset. The `load_dataset` method has parameters with information used to load the dataset."
   ]
  },
  {
   "cell_type": "code",
   "execution_count": null,
   "id": "94e348c2",
   "metadata": {
    "tags": [
     "remove_for_tf_dataset"
    ]
   },
   "outputs": [],
   "source": [
    "dataset = dataset_factory.load_dataset(sms_data_directory, \"text_classification\", \"tensorflow\",\n",
    "                                       csv_file_name=csv_file_name, class_names=class_names,\n",
    "                                       label_map_func=label_map_func, delimiter=delimiter, header=header)\n",
    "\n",
    "print(dataset.info)\n",
    "print(\"\\nClass names:\", str(dataset.class_names))"
   ]
  },
  {
   "cell_type": "markdown",
   "id": "28504679",
   "metadata": {},
   "source": [
    "Skip to the next step [4. Prepare the dataset](#4.-Prepare-the-dataset) to continue using your own dataset."
   ]
  },
  {
   "cell_type": "markdown",
   "id": "ccac8980",
   "metadata": {},
   "source": [
    "### Option B: Use the TensorFlow datasets catalog\n",
    "\n",
    "Option B allows for using a dataset from the [TensorFlow datasets catalog](https://www.tensorflow.org/datasets/catalog/overview). The dataset factory currently supports the following TFDS text classification datasets: [imdb_reviews](https://www.tensorflow.org/datasets/catalog/imdb_reviews), [glue/sst2](https://www.tensorflow.org/datasets/catalog/glue#gluesst2), [glue/cola](https://www.tensorflow.org/datasets/catalog/glue#gluecola_default_config), and [ag_news_subset](https://www.tensorflow.org/datasets/catalog/ag_news_subset)."
   ]
  },
  {
   "cell_type": "code",
   "execution_count": null,
   "id": "d93313bf",
   "metadata": {
    "tags": [
     "remove_for_custom_dataset"
    ]
   },
   "outputs": [],
   "source": [
    "# Supported datasets: imdb_reviews, glue/sst2, glue/cola, ag_news_subset\n",
    "dataset_name = \"ag_news_subset\"\n",
    "dataset = dataset_factory.get_dataset(dataset_dir, model.use_case, model.framework, dataset_name,\n",
    "                                      dataset_catalog=\"tf_datasets\", shuffle_files=True)\n",
    "\n",
    "print(dataset.info)\n",
    "print(\"\\nClass names:\", str(dataset.class_names))"
   ]
  },
  {
   "cell_type": "markdown",
   "id": "539d53b7",
   "metadata": {},
   "source": [
    "## 4. Prepare the dataset\n",
    "\n",
    "Once you have your dataset from Option A or Option B above, use the following cells to split and preprocess the data. We split them into training and validation subsets, then resize the images to match the selected models, and then batch the images."
   ]
  },
  {
   "cell_type": "code",
   "execution_count": null,
   "id": "587d1d9e",
   "metadata": {},
   "outputs": [],
   "source": [
    "# Create splits for training and validation and batch the dataset\n",
    "dataset.shuffle_split(train_pct=0.75, val_pct=0.25)\n",
    "dataset.preprocess(batch_size=32)"
   ]
  },
  {
   "cell_type": "markdown",
   "id": "352eda54",
   "metadata": {},
   "source": [
    "## 5. Fine tuning\n",
    "\n",
    "The TLT model's train function is called with the dataset that was just prepared, along with an output directory for checkpoints, and the number of training epochs.\n",
    "\n",
    "Mixed precision uses both 16-bit and 32-bit floating point types to make training run faster and use less memory. It is recommended to enable auto mixed precision training when running on platforms that support bfloat16 (Intel third or fourth generation Xeon processors). If it is enabled on a platform that does not support bfloat16, it can be detrimental to the training performance.\n",
    "\n",
    "With the do_eval paramter set to True by default, this step will also show how the model can be evaluated. The model's evaluate function returns a list of metrics calculated from the dataset's validation subset."
   ]
  },
  {
   "cell_type": "markdown",
   "id": "492ee811",
   "metadata": {},
   "source": [
    "### Arguments\n",
    "\n",
    "#### Required\n",
    "-  **dataset** (ImageClassificationDataset, required): Dataset to use when training the model\n",
    "-  **output_dir** (str): Path to a writeable directory for checkpoint files\n",
    "-  **epochs** (int): Number of epochs to train the model (default: 1)\n",
    "\n",
    "#### Optional\n",
    "-  **initial_checkpoints** (str): Path to checkpoint weights to load. If the path provided is a directory, the latest checkpoint will be used.\n",
    "-  **early_stopping** (bool): Enable early stopping if convergence is reached while training at the end of each epoch. (default: False)\n",
    "-  **lr_decay** (bool): If lr_decay is True and do_eval is True, learning rate decay on the validation loss is applied at the end of each epoch.\n",
    "-  **enable_auto_mixed_precision** (bool or None): Enable auto mixed precision for training. Mixed precision uses both 16-bit and 32-bit floating point types to make training run faster and use less memory. It is recommended to enable auto mixed precision training when running on platforms that support bfloat16 (Intel third or fourth generation Xeon processors). If it is enabled on a platform that does not support bfloat16, it can be detrimental to the training performance. If enable_auto_mixed_precision is set to None, auto mixed precision will be automatically enabled when running with Intel fourth generation Xeon processors, and disabled for other platforms.\n",
    "-  **extra_layers** (list[int]): Optionally insert additional dense layers between the base model and output layer. This can help increase accuracy when fine-tuning a TFHub model. The input should be a list of integers representing the number and size of the layers, for example [1024, 512] will insert two dense layers, the first with 1024 neurons and the second with 512 neurons.\n",
    "\n",
    "Note: refer to release documentation for an up-to-date list of train arguments and their current descriptions"
   ]
  },
  {
   "cell_type": "code",
   "execution_count": null,
   "id": "955a4a7e",
   "metadata": {},
   "outputs": [],
   "source": [
    "# If enable_auto_mixed_precision is set to None, auto mixed precision will be automatically enabled when running \n",
    "# with Intel fourth generation Xeon processors, and disabled for other platforms.\n",
    "enable_auto_mixed_precision = None\n",
    "\n",
    "history = model.train(dataset, output_dir, epochs=1, enable_auto_mixed_precision=enable_auto_mixed_precision)"
   ]
  },
  {
   "cell_type": "markdown",
   "id": "32dd7c0a",
   "metadata": {},
   "source": [
    "Evaluate the trained model:"
   ]
  },
  {
   "cell_type": "code",
   "execution_count": null,
   "id": "1e728d46",
   "metadata": {},
   "outputs": [],
   "source": [
    "metrics_names = model._model.metrics_names\n",
    "metrics = model.evaluate(dataset, enable_auto_mixed_precision)\n",
    "\n",
    "for metric_name, metric_value in zip(metrics_names, metrics):\n",
    "    print(\"{}: {}\".format(metric_name, metric_value))"
   ]
  },
  {
   "cell_type": "markdown",
   "id": "7e08a1c9",
   "metadata": {},
   "source": [
    "## 6. Predict\n",
    "\n",
    "The model's predict function can be called with a batch of data from the dataset."
   ]
  },
  {
   "cell_type": "code",
   "execution_count": null,
   "id": "1ed07887",
   "metadata": {
    "scrolled": false
   },
   "outputs": [],
   "source": [
    "# Get a single batch from the dataset object\n",
    "data_batch, labels = dataset.get_batch()\n",
    "\n",
    "# Call predict using the batch\n",
    "batch_predictions = model.predict(data_batch, enable_auto_mixed_precision=enable_auto_mixed_precision)\n",
    "\n",
    "# Maximum number of rows to show in the data frame\n",
    "max_items = 10\n",
    "num_classes = len(dataset.class_names)\n",
    "# Collect the sentence text, score, and actual label for the batch\n",
    "prediction_list = []\n",
    "for i, (text, actual_label) in enumerate(zip(data_batch, labels)):\n",
    "    sentence = text.numpy().decode('utf-8')\n",
    "    score = batch_predictions[i]\n",
    "    if num_classes == 2:\n",
    "        prediction = float(score)\n",
    "    else:\n",
    "        prediction = float(np.argmax(score))\n",
    "    \n",
    "    prediction_list.append([sentence,\n",
    "                            max(tf.get_static_value(score)),\n",
    "                            dataset.get_str_label(prediction),\n",
    "                            dataset.get_str_label(int(actual_label.numpy()))])\n",
    "    if i + 1 >= max_items:\n",
    "        break\n",
    "\n",
    "# Display the results using a data frame\n",
    "result_df = pd.DataFrame(prediction_list, columns=[\"Input Text\", \"Prediction Score\", \"Prediction\", \"Actual Label\"])\n",
    "# Center the column headers and hide the index\n",
    "result_df.style.set_table_styles([{'selector': 'th', 'props': [('text-align', 'center')]}]).hide(axis=\"index\")"
   ]
  },
  {
   "cell_type": "markdown",
   "id": "f62be263",
   "metadata": {},
   "source": [
    "Raw text can also be passed to the predict function."
   ]
  },
  {
   "cell_type": "code",
   "execution_count": null,
   "id": "6f3cbd35",
   "metadata": {},
   "outputs": [],
   "source": [
    "score = model.predict(\"Awesome movie!\")\n",
    "\n",
    "if num_classes == 2:\n",
    "    result = float(score)\n",
    "else:\n",
    "    result = float(np.argmax(score))\n",
    "\n",
    "print(\"Predicted score:\", np.max(score))\n",
    "print(\"Predicted label:\", dataset.get_str_label(float(result)))"
   ]
  },
  {
   "cell_type": "markdown",
   "id": "64ada826",
   "metadata": {},
   "source": [
    "## 7. Export the saved model\n",
    "\n",
    "Lastly, we can call the Intel Transfer Learning Tool model export function to generate a `saved_model.pb`. The model is saved in a format that is ready to use with [TensorFlow Serving](https://github.com/tensorflow/serving). Each time the model is exported, a new numbered directory is created, which allows serving to pick up the latest model."
   ]
  },
  {
   "cell_type": "code",
   "execution_count": null,
   "id": "3981b2f5",
   "metadata": {},
   "outputs": [],
   "source": [
    "saved_model_dir = model.export(output_dir)"
   ]
  },
  {
   "cell_type": "markdown",
   "id": "7b0c400c",
   "metadata": {},
   "source": [
    "## 8. Quantization\n",
    "\n",
    "In this section, the Intel Transfer Learning Tool API uses Intel® Neural Compressor (INC) to quantize the model to get optimal inference performance."
   ]
  },
  {
   "cell_type": "markdown",
   "id": "b924c81b",
   "metadata": {},
   "source": [
    "We use the Intel Neural Compressor config to benchmark the full precision model to see how it performs, as our baseline.\n",
    "\n",
    "> Note that there is a known issue when running Intel Neural Compressor from a notebook that you may sometimes see the error \n",
    "> `zmq.error.ZMQError: Address already in use`. If you see this error, rerun the cell again."
   ]
  },
  {
   "cell_type": "code",
   "execution_count": null,
   "id": "08fdb72d",
   "metadata": {},
   "outputs": [],
   "source": [
    "results = model.benchmark(dataset)"
   ]
  },
  {
   "cell_type": "markdown",
   "id": "d7b33e37",
   "metadata": {},
   "source": [
    "Next we use Intel Neural Compressor to automatically search for the optimal quantization recipe for low-precision model inference. Running post training quantization may take several minutes."
   ]
  },
  {
   "cell_type": "code",
   "execution_count": null,
   "id": "29918c14",
   "metadata": {},
   "outputs": [],
   "source": [
    "inc_output_dir = os.path.join(output_dir, 'quantized_models', model.model_name,\n",
    "                                       os.path.basename(saved_model_dir))\n",
    "model.quantize(inc_output_dir, dataset)"
   ]
  },
  {
   "cell_type": "markdown",
   "id": "fd6c2674",
   "metadata": {},
   "source": [
    "Let's benchmark using the quantized model, so that we can compare the performance to the full precision model that was originally benchmarked."
   ]
  },
  {
   "cell_type": "code",
   "execution_count": null,
   "id": "bcb08097",
   "metadata": {},
   "outputs": [],
   "source": [
    "quantized_results = model.benchmark(dataset=dataset, saved_model_dir=inc_output_dir)"
   ]
  },
  {
   "cell_type": "markdown",
   "id": "0459a8c3",
   "metadata": {},
   "source": [
    "Let's also inspect the disk size of the pre- and post-quantization model files:"
   ]
  },
  {
   "cell_type": "code",
   "execution_count": null,
   "id": "8b726f30",
   "metadata": {},
   "outputs": [],
   "source": [
    "print('The size of the un-compressed model:')\n",
    "!du -h {saved_model_dir}"
   ]
  },
  {
   "cell_type": "code",
   "execution_count": null,
   "id": "04b4408d",
   "metadata": {},
   "outputs": [],
   "source": [
    "print('The size of the compressed model:')\n",
    "!du -h {inc_output_dir}"
   ]
  },
  {
   "cell_type": "markdown",
   "id": "3d0ed367",
   "metadata": {},
   "source": [
    "## Citations\n",
    "\n",
    "```\n",
    "@InProceedings{maas-EtAl:2011:ACL-HLT2011,\n",
    "  author    = {Maas, Andrew L.  and  Daly, Raymond E.  and  Pham, Peter T.  and  Huang, Dan  and  Ng, Andrew Y.  and  Potts, Christopher},\n",
    "  title     = {Learning Word Vectors for Sentiment Analysis},\n",
    "  booktitle = {Proceedings of the 49th Annual Meeting of the Association for Computational Linguistics: Human Language Technologies},\n",
    "  month     = {June},\n",
    "  year      = {2011},\n",
    "  address   = {Portland, Oregon, USA},\n",
    "  publisher = {Association for Computational Linguistics},\n",
    "  pages     = {142--150},\n",
    "  url       = {http://www.aclweb.org/anthology/P11-1015}\n",
    "}\n",
    "\n",
    "@misc{zhang2015characterlevel,\n",
    "    title={Character-level Convolutional Networks for Text Classification},\n",
    "    author={Xiang Zhang and Junbo Zhao and Yann LeCun},\n",
    "    year={2015},\n",
    "    eprint={1509.01626},\n",
    "    archivePrefix={arXiv},\n",
    "    primaryClass={cs.LG}\n",
    "}\n",
    "\n",
    "@misc{misc_sms_spam_collection_228,\n",
    "  author       = {Almeida, Tiago},\n",
    "  title        = {{SMS Spam Collection}},\n",
    "  year         = {2012},\n",
    "  howpublished = {UCI Machine Learning Repository}\n",
    "}\n",
    "```\n",
    "Please see this dataset's applicable license for terms and conditions. Intel Corporation does not own the rights to this data set and does not confer any rights to it."
   ]
  }
 ],
 "metadata": {
  "kernelspec": {
   "display_name": "Python 3 (ipykernel)",
   "language": "python",
   "name": "python3"
  },
  "language_info": {
   "codemirror_mode": {
    "name": "ipython",
    "version": 3
   },
   "file_extension": ".py",
   "mimetype": "text/x-python",
   "name": "python",
   "nbconvert_exporter": "python",
   "pygments_lexer": "ipython3",
   "version": "3.9.16"
  }
 },
 "nbformat": 4,
 "nbformat_minor": 5
}
