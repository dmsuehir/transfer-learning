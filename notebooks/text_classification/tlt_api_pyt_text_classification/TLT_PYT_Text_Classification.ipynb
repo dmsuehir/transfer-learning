{
 "cells": [
  {
   "cell_type": "markdown",
   "id": "ac1059eb",
   "metadata": {},
   "source": [
    "# Text Classification fine tuning using Pytorch and the Intel® Transfer Learning Tool API\n",
    "\n",
    "This notebook uses the `tlt` library to fine tune a Hugging Face pretrained model for text classification."
   ]
  },
  {
   "cell_type": "markdown",
   "id": "0bb70464",
   "metadata": {},
   "source": [
    "## 1. Import dependencies and setup parameters\n",
    "\n",
    "This notebook assumes that you have already followed the instructions to setup a Pytorch environment with all the dependencies required to run the notebook."
   ]
  },
  {
   "cell_type": "code",
   "execution_count": null,
   "id": "20ab9972",
   "metadata": {},
   "outputs": [],
   "source": [
    "import numpy as np\n",
    "import os\n",
    "import pandas as pd\n",
    "\n",
    "# tlt imports\n",
    "from tlt.datasets import dataset_factory\n",
    "from tlt.models import model_factory\n",
    "from tlt.utils.file_utils import download_and_extract_zip_file\n",
    "\n",
    "# Specify a directory for the dataset to be downloaded\n",
    "dataset_dir = os.environ[\"DATASET_DIR\"] if \"DATASET_DIR\" in os.environ else \\\n",
    "    os.path.join(os.environ[\"HOME\"], \"dataset\")\n",
    "\n",
    "# Specify a directory for output\n",
    "output_dir = os.environ[\"OUTPUT_DIR\"] if \"OUTPUT_DIR\" in os.environ else \\\n",
    "    os.path.join(os.environ[\"HOME\"], \"output\")\n",
    "\n",
    "print(\"Dataset directory:\", dataset_dir)\n",
    "print(\"Output directory:\", output_dir)"
   ]
  },
  {
   "cell_type": "markdown",
   "id": "47787deb",
   "metadata": {},
   "source": [
    "## 2. Get the model\n",
    "\n",
    "In this step, we call the Intel Transfer Learning Tool model factory to list supported Hugging Face text classification models. This is a list of pretrained models from Hugging Face that we tested with our API. Optionally, the `verbose=True` argument can be added to the `print_supported_models()` function call to get more information about each model (such as the links to Huggingface, the original dataset, etc)."
   ]
  },
  {
   "cell_type": "code",
   "execution_count": null,
   "id": "52a4af60",
   "metadata": {},
   "outputs": [],
   "source": [
    "# See a list of available text classification models\n",
    "model_factory.print_supported_models(use_case='text_classification', framework='pytorch')"
   ]
  },
  {
   "cell_type": "markdown",
   "id": "7293733f",
   "metadata": {},
   "source": [
    "Use the Intel Transfer Learning Tool model factory to get one of the models listed in the previous cell. The `get_model` function returns a TLT model object that will later be used for training."
   ]
  },
  {
   "cell_type": "code",
   "execution_count": null,
   "id": "050d7b0a",
   "metadata": {},
   "outputs": [],
   "source": [
    "model_name = \"bert-base-cased\"\n",
    "framework = \"pytorch\"\n",
    "\n",
    "model = model_factory.get_model(model_name, framework)\n",
    "\n",
    "print(\"Model name:\", model.model_name)\n",
    "print(\"Framework:\", model.framework)\n",
    "print(\"Use case:\", model.use_case)"
   ]
  },
  {
   "cell_type": "markdown",
   "id": "37bf5a93",
   "metadata": {},
   "source": [
    "## 3. Get the dataset"
   ]
  },
  {
   "cell_type": "markdown",
   "id": "6867f79e",
   "metadata": {},
   "source": [
    "### Option A: Use your own dataset\n",
    "This option allows for using your own text classification dataset from a `.csv` file. The dataset factory will expect text classification .csv files to have two columns where the first column is the label and the second column is the text/sentence to classify.\n",
    "\n",
    "For example, the contents of a comma separated value file should look similar to this:\n",
    "```\n",
    "<label>,<text>\n",
    "<label>,<text>\n",
    "<label>,<text>\n",
    "```\n",
    "\n",
    "If the .csv has more columns, the `select_cols` or `exclude_cols` parameters can be used to filter out which columns are parsed.\n",
    "\n",
    "This example is downloading the [SMS Spam Collection](https://archive.ics.uci.edu/ml/datasets/sms+spam+collection) dataset, which has a tab separated value file in the .zip file. This dataset has labeled SMS text messages that are either being classified as `ham` or `spam`. The first column in the data file has the label (`ham` or `spam`) and the second column is the text of the SMS mesage. (Note: Please see this dataset's applicable license for terms and conditions. Intel Corporation does not own the rights to this data set and does not confer any rights to it.)\n",
    "\n",
    "When using your own dataset, update the path to your dataset directory, as well the other variables with properties about the dataset like the csv file name, class names, delimiter, header, and the map function (if string labels need to be translated into numerical values)."
   ]
  },
  {
   "cell_type": "code",
   "execution_count": null,
   "id": "41edc8fc",
   "metadata": {
    "tags": [
     "remove_for_hf_dataset"
    ]
   },
   "outputs": [],
   "source": [
    "# Modify the variables below to use a different dataset or a csv file on your local system.\n",
    "# The csv_path variable should be pointing to a csv file with 2 columns (the label and the text)\n",
    "dataset_url = \"https://archive.ics.uci.edu/static/public/228/sms+spam+collection.zip\"\n",
    "dataset_dir = os.path.join(dataset_dir, \"sms_spam_collection\")\n",
    "csv_name = \"SMSSpamCollection\"\n",
    "delimiter = \"\\t\"\n",
    "label_names = [\"ham\", \"spam\"]\n",
    "\n",
    "# Rename the file to include the csv extension so that the dataset API knows how to load the file\n",
    "renamed_csv = \"{}.csv\".format(csv_name)\n",
    "print(renamed_csv)\n",
    "\n",
    "# If we don't already have the csv file, download and extract the zip file to get it.\n",
    "if not os.path.exists(os.path.join(dataset_dir, csv_name)) and \\\n",
    "                      not os.path.exists(os.path.join(dataset_dir, renamed_csv)):\n",
    "    download_and_extract_zip_file(dataset_url, dataset_dir)\n",
    "\n",
    "if not os.path.exists(os.path.join(dataset_dir, renamed_csv)):\n",
    "    os.rename(os.path.join(dataset_dir, csv_name), os.path.join(dataset_dir, renamed_csv))"
   ]
  },
  {
   "cell_type": "code",
   "execution_count": null,
   "id": "94e348c2",
   "metadata": {
    "tags": [
     "remove_for_hf_dataset"
    ]
   },
   "outputs": [],
   "source": [
    "dataset = dataset_factory.load_dataset(dataset_dir=dataset_dir, use_case=\"text_classification\",\n",
    "                                       framework=\"pytorch\", csv_file_name=renamed_csv, class_names=label_names,\n",
    "                                       column_names=[\"label\", \"text\"], delimiter=delimiter, header=None)\n",
    "\n",
    "print(dataset.info)\n",
    "print(\"\\nClass names:\", str(dataset.class_names))"
   ]
  },
  {
   "cell_type": "markdown",
   "id": "28504679",
   "metadata": {},
   "source": [
    "Skip to the next step [4. Prepare the dataset](#4.-Prepare-the-dataset) to continue using your own dataset."
   ]
  },
  {
   "cell_type": "markdown",
   "id": "ccac8980",
   "metadata": {},
   "source": [
    "### Option B: Use the HuggingFace catalog\n",
    "\n",
    "Option B allows for using a dataset from the [HuggingFace datasets catalog](https://huggingface.co/datasets).\n",
    "Current supported datasets: \n",
    "- **imdb**\n",
    "- **tweet_eval/** -- emoji, emotion, hate, irony, offensive, sentiment, stance_abortion, stance_atheism, stance_climate, stance_feminist, stance_hillary\n",
    "- **rotten_tomatoes**\n",
    "- **ag_news**\n",
    "- **sst2**"
   ]
  },
  {
   "cell_type": "code",
   "execution_count": null,
   "id": "d93313bf",
   "metadata": {
    "tags": [
     "remove_for_custom_dataset"
    ]
   },
   "outputs": [],
   "source": [
    "dataset_name = \"tweet_eval/sentiment\"\n",
    "dataset = dataset_factory.get_dataset(dataset_dir, model.use_case, model.framework, dataset_name,\n",
    "                                      dataset_catalog=\"huggingface\", shuffle_files=True)\n",
    "\n",
    "print(dataset.info)\n",
    "print(\"\\nClass names:\", str(dataset.class_names))"
   ]
  },
  {
   "cell_type": "markdown",
   "id": "539d53b7",
   "metadata": {},
   "source": [
    "## 4. Prepare the dataset\n",
    "\n",
    "Once you have your dataset from Option A or Option B above, use the following cell to preprocess the dataset. The dataset is batched and then split into subsets for training and validation."
   ]
  },
  {
   "cell_type": "code",
   "execution_count": null,
   "id": "587d1d9e",
   "metadata": {},
   "outputs": [],
   "source": [
    "# Batch the dataset and create splits for training and validation\n",
    "dataset.preprocess(model_name, batch_size=32)\n",
    "dataset.shuffle_split(train_pct=0.75, val_pct=0.25)"
   ]
  },
  {
   "cell_type": "markdown",
   "id": "352eda54",
   "metadata": {},
   "source": [
    "## 5. Fine tuning\n",
    "\n",
    "The Intel Transfer Learning Tool model's train function is called with the dataset that was just prepared, along with an output directory for checkpoints, and the number of training epochs.\n",
    "\n",
    "With the do_eval parameter set to True by default, this step will also show how the model can be evaluated. The model's evaluate function returns a list of metrics calculated from the dataset's validation subset."
   ]
  },
  {
   "cell_type": "markdown",
   "id": "492ee811",
   "metadata": {},
   "source": [
    "### Arguments\n",
    "\n",
    "#### Required\n",
    "-  **dataset** (ImageClassificationDataset, required): Dataset to use when training the model\n",
    "-  **output_dir** (str): Path to a writeable directory for checkpoint files\n",
    "-  **epochs** (int): Number of epochs to train the model (default: 1)\n",
    "\n",
    "#### Optional\n",
    "-  **initial_checkpoints** (str): Path to checkpoint weights to load. If the path provided is a directory, the latest checkpoint will be used.\n",
    "-  **early_stopping** (bool): Enable early stopping if convergence is reached while training at the end of each epoch. (default: False)\n",
    "-  **lr_decay** (bool): If lr_decay is True and do_eval is True, learning rate decay on the validation loss is applied at the end of each epoch.\n",
    "-  **extra_layers** (list[int]): Optionally insert additional dense layers between the base model and output layer. This can help increase accuracy when fine-tuning a TFHub model. The input should be a list of integers representing the number and size of the layers, for example [1024, 512] will insert two dense layers, the first with 1024 neurons and the second with 512 neurons.\n",
    "-  **use_trainer** (bool): If use_trainer is True, then the model training is done using the Hugging Face Trainer\n",
    "and if use_trainer is False, the model training is done using native PyTorch training loop\n",
    "-  **enable_auto_mixed_precision** (bool or None): Enable auto mixed precision for training. Mixed precision\n",
    "uses both 16-bit and 32-bit floating point types to make training run faster and use less memory. It is recommended to enable auto mixed precision training when running on platforms that support bfloat16 (Intel third or fourth generation Xeon processors). If it is enabled on a platform that does not support bfloat16, it can be detrimental to the training performance. If enable_auto_mixed_precision is set to None, auto mixed precision will be automatically enabled when running with Intel fourth generation Xeon processors, and disabled for other platforms. Defaults to None.\n",
    "\n",
    "Note: refer to release documentation for an up-to-date list of train arguments and their current descriptions"
   ]
  },
  {
   "cell_type": "code",
   "execution_count": null,
   "id": "955a4a7e",
   "metadata": {},
   "outputs": [],
   "source": [
    "enable_auto_mixed_precision = None\n",
    "\n",
    "history = model.train(dataset, output_dir, epochs=1, ipex_optimize=True, use_trainer=False, enable_auto_mixed_precision=enable_auto_mixed_precision)"
   ]
  },
  {
   "cell_type": "markdown",
   "id": "7eacff69",
   "metadata": {},
   "source": [
    "A complete model summary can be printed for all modules in case any need to be unfrozen:"
   ]
  },
  {
   "cell_type": "code",
   "execution_count": null,
   "id": "2f116a14",
   "metadata": {},
   "outputs": [],
   "source": [
    "model.list_layers(verbose=True)"
   ]
  },
  {
   "attachments": {},
   "cell_type": "markdown",
   "id": "70c57445",
   "metadata": {},
   "source": [
    "Layers can be unfrozen by passing their string names, such as the following:"
   ]
  },
  {
   "cell_type": "code",
   "execution_count": null,
   "id": "c94963c3",
   "metadata": {},
   "outputs": [],
   "source": [
    "model.unfreeze_layer(\"features\") # Unfreezes the features layers\n",
    "model.list_layers(verbose=True) "
   ]
  },
  {
   "attachments": {},
   "cell_type": "markdown",
   "id": "7e08a1c9",
   "metadata": {},
   "source": [
    "## 6. Predict\n",
    "\n",
    "The model's predict function can be called with a batch of data from the dataset."
   ]
  },
  {
   "cell_type": "code",
   "execution_count": null,
   "id": "1ed07887",
   "metadata": {},
   "outputs": [],
   "source": [
    "# Get a single batch from the dataset object\n",
    "data_batch = dataset.get_batch()\n",
    "\n",
    "# Call predict using the batch\n",
    "batch_predictions = model.predict(data_batch, enable_auto_mixed_precision=enable_auto_mixed_precision)\n",
    "\n",
    "# Maximum number of rows to show in the data frame\n",
    "max_items = 10\n",
    "# Collect the sentence text, score, and actual label for the batch\n",
    "prediction_list = []\n",
    "\n",
    "for i, tensor in enumerate(data_batch['input_ids']):\n",
    "    sentence = dataset.get_text(tensor)[0]\n",
    "    score = batch_predictions[i]\n",
    "    prediction_list.append([sentence,\n",
    "                            dataset.get_str_label(float(score)),\n",
    "                            dataset.get_str_label(float(data_batch['label'][i]))])\n",
    "    if i + 1 >= max_items:\n",
    "        break\n",
    "\n",
    "# Display the results using a data frame\n",
    "result_df = pd.DataFrame(prediction_list, columns=[\"Input Text\", \"Predicted Label\", \"Actual Label\"])\n",
    "result_df.style.hide(axis=\"index\")"
   ]
  },
  {
   "cell_type": "markdown",
   "id": "7721d95b",
   "metadata": {},
   "source": [
    "### Predict on Text"
   ]
  },
  {
   "cell_type": "markdown",
   "id": "f62be263",
   "metadata": {},
   "source": [
    "Raw text can also be passed to the predict function."
   ]
  },
  {
   "cell_type": "code",
   "execution_count": null,
   "id": "6f3cbd35",
   "metadata": {},
   "outputs": [],
   "source": [
    "result = model.predict(\"Good movie\")\n",
    "\n",
    "print(\"Predicted score:\", float(result))\n",
    "print(\"Predicted label:\", dataset.get_str_label(float(result)))"
   ]
  },
  {
   "cell_type": "markdown",
   "id": "64ada826",
   "metadata": {},
   "source": [
    "## 7. Export the saved model\n",
    "\n",
    "Lastly, we can call the model export function to generate a saved_model.pb. Each time the model is exported, a new numbered directory is created, which allows serving to pick up the latest model."
   ]
  },
  {
   "cell_type": "code",
   "execution_count": null,
   "id": "3981b2f5",
   "metadata": {},
   "outputs": [],
   "source": [
    "saved_model_dir = model.export(output_dir)"
   ]
  },
  {
   "cell_type": "markdown",
   "id": "458f365e",
   "metadata": {},
   "source": [
    "## 8. Quantization\n",
    "\n",
    "In this section, the Intel Transfer Learning Tool API uses Intel® Neural Compressor (INC) to quantize the model to get optimal inference performance.\n",
    "\n",
    "We use the Intel Neural Compressor config to benchmark the full precision model to see how it performs, as our baseline.\n",
    "\n",
    "> Note that there is a known issue when running Intel Neural Compressor from a notebook that you may sometimes see the error \n",
    "> `zmq.error.ZMQError: Address already in use`. If you see this error, rerun the cell again."
   ]
  },
  {
   "cell_type": "code",
   "execution_count": null,
   "id": "66eb7c8a",
   "metadata": {},
   "outputs": [],
   "source": [
    "result = model.benchmark(dataset)"
   ]
  },
  {
   "cell_type": "markdown",
   "id": "ae3dd2eb",
   "metadata": {},
   "source": [
    "Next we use Intel Neural Compressor to automatically search for the optimal quantization recipe for low-precision model inference. Running post training quantization may take several minutes."
   ]
  },
  {
   "cell_type": "markdown",
   "id": "02d43148",
   "metadata": {},
   "source": [
    "Next we use INC to automatically search for the optimal quantization recipe for low-precision model inference within the accuracy loss constrains defined in the config. Running post training quantization may take several minutes, depending on your hardware and the exit policy (timeout and max trials)."
   ]
  },
  {
   "cell_type": "code",
   "execution_count": null,
   "id": "759cb276",
   "metadata": {},
   "outputs": [],
   "source": [
    "inc_output_dir = os.path.join(output_dir, 'quantized_models', model.model_name,\n",
    "                                       os.path.basename(saved_model_dir))\n",
    "model.quantize(inc_output_dir, dataset)"
   ]
  },
  {
   "cell_type": "markdown",
   "id": "fd539f96",
   "metadata": {},
   "source": [
    "Let's benchmark using the quantized model, so that we can compare the performance to the full precision model that was originally benchmarked."
   ]
  },
  {
   "cell_type": "code",
   "execution_count": null,
   "id": "4cba3376",
   "metadata": {},
   "outputs": [],
   "source": [
    "quantized_result = model.benchmark(dataset=dataset, saved_model_dir=inc_output_dir)"
   ]
  },
  {
   "cell_type": "markdown",
   "id": "970d771d",
   "metadata": {},
   "source": [
    "You can inspect the disk size of the pre- and post-quantization model files:"
   ]
  },
  {
   "cell_type": "code",
   "execution_count": null,
   "id": "59a4c8e0",
   "metadata": {},
   "outputs": [],
   "source": [
    "print('The size of the un-compressed model:')\n",
    "!du -h {saved_model_dir}"
   ]
  },
  {
   "cell_type": "code",
   "execution_count": null,
   "id": "864a616d",
   "metadata": {},
   "outputs": [],
   "source": [
    "print('The size of the compressed model:')\n",
    "!du -h {inc_output_dir}"
   ]
  },
  {
   "cell_type": "markdown",
   "id": "3d0ed367",
   "metadata": {},
   "source": [
    "## Citations\n",
    "\n",
    "```\n",
    "@InProceedings{maas-EtAl:2011:ACL-HLT2011,\n",
    "  author    = {Maas, Andrew L.  and  Daly, Raymond E.  and  Pham, Peter T.  and  Huang, Dan  and  Ng, Andrew Y.  and  Potts, Christopher},\n",
    "  title     = {Learning Word Vectors for Sentiment Analysis},\n",
    "  booktitle = {Proceedings of the 49th Annual Meeting of the Association for Computational Linguistics: Human Language Technologies},\n",
    "  month     = {June},\n",
    "  year      = {2011},\n",
    "  address   = {Portland, Oregon, USA},\n",
    "  publisher = {Association for Computational Linguistics},\n",
    "  pages     = {142--150},\n",
    "  url       = {http://www.aclweb.org/anthology/P11-1015}\n",
    "}\n",
    "\n",
    "@inproceedings{rosenthal2017semeval,\n",
    "  title={SemEval-2017 task 4: Sentiment analysis in Twitter},\n",
    "  author={Rosenthal, Sara and Farra, Noura and Nakov, Preslav},\n",
    "  booktitle={Proceedings of the 11th international workshop on semantic evaluation (SemEval-2017)},\n",
    "  pages={502--518},\n",
    "  year={2017}\n",
    "}\n",
    "\n",
    "@misc{misc_sms_spam_collection_228,\n",
    "  author       = {Almeida, Tiago},\n",
    "  title        = {{SMS Spam Collection}},\n",
    "  year         = {2012},\n",
    "  howpublished = {UCI Machine Learning Repository}\n",
    "}\n",
    "```\n",
    "Please see this dataset's applicable license for terms and conditions. Intel Corporation does not own the rights to this data set and does not confer any rights to it."
   ]
  }
 ],
 "metadata": {
  "kernelspec": {
   "display_name": "Python 3 (ipykernel)",
   "language": "python",
   "name": "python3"
  },
  "language_info": {
   "codemirror_mode": {
    "name": "ipython",
    "version": 3
   },
   "file_extension": ".py",
   "mimetype": "text/x-python",
   "name": "python",
   "nbconvert_exporter": "python",
   "pygments_lexer": "ipython3",
   "version": "3.9.16"
  },
  "vscode": {
   "interpreter": {
    "hash": "e0aa4059be174cbf31be2e5e13e301e374cc50c7151267adca3135ebe59561bd"
   }
  }
 },
 "nbformat": 4,
 "nbformat_minor": 5
}
